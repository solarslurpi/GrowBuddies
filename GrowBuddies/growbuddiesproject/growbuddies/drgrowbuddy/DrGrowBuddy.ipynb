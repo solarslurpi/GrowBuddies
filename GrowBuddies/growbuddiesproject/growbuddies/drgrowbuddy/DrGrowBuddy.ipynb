{
  "nbformat": 4,
  "nbformat_minor": 0,
  "metadata": {
    "colab": {
      "provenance": [],
      "authorship_tag": "ABX9TyOaFvQg34r+p0Oba7dWsMYD",
      "include_colab_link": true
    },
    "kernelspec": {
      "name": "python3",
      "display_name": "Python 3"
    },
    "language_info": {
      "name": "python"
    }
  },
  "cells": [
    {
      "cell_type": "markdown",
      "metadata": {
        "id": "view-in-github",
        "colab_type": "text"
      },
      "source": [
        "<a href=\"https://colab.research.google.com/github/solarslurpi/GrowBuddies/blob/main/GrowBuddies/growbuddiesproject/growbuddies/drgrowbuddy/DrGrowBuddy.ipynb\" target=\"_parent\"><img src=\"https://colab.research.google.com/assets/colab-badge.svg\" alt=\"Open In Colab\"/></a>"
      ]
    },
    {
      "cell_type": "markdown",
      "source": [
        "# The Journey Begins\n",
        "Today is 1/16/2022. MLK day and all that.  Starting my DrGrowBuddy Journey.  The first thing I want to do is run a training/test/validation run using two categories: healthy and unhealthy.  This will get me started down the data pipeline as well as just getting started."
      ],
      "metadata": {
        "id": "1L7xfn6obE1D"
      }
    },
    {
      "cell_type": "markdown",
      "source": [
        "I found [this PyTorch GitHub](https://github.com/abdullahselek/plant-disease-classification-pytorch) with Python code for Plant Disease Detection.  HappyDay!"
      ],
      "metadata": {
        "id": "AWH6AYbHb1t1"
      }
    },
    {
      "cell_type": "markdown",
      "source": [
        "## Import Libraries"
      ],
      "metadata": {
        "id": "sG4VxrJHcwm9"
      }
    },
    {
      "cell_type": "code",
      "source": [
        "import torch"
      ],
      "metadata": {
        "id": "IevzPnRmcqeL"
      },
      "execution_count": 1,
      "outputs": []
    },
    {
      "cell_type": "code",
      "source": [
        "# CPU or GPU\n",
        "DEVICE = torch.device(\"cuda:0\" if torch.cuda.is_available() else \"cpu\")\n",
        "print(f\"The device running the code is the {DEVICE}.\")"
      ],
      "metadata": {
        "colab": {
          "base_uri": "https://localhost:8080/"
        },
        "id": "FH2gbjIFcgFA",
        "outputId": "e0c9eba1-7882-4ade-e82f-7ef46ea821f6"
      },
      "execution_count": 2,
      "outputs": [
        {
          "output_type": "stream",
          "name": "stdout",
          "text": [
            "The device running the code is the cpu.\n"
          ]
        }
      ]
    },
    {
      "cell_type": "markdown",
      "source": [
        "## Get Data\n",
        "This is interesting because my goal is to diagnose cannabis plant nutrient deficiencies, then move on to diseases and then pests.  I don't have a lot of images.  So my options for a lot of images include scraping the internet, using existing plant databases, using my own images.  Let's see..."
      ],
      "metadata": {
        "id": "0MMF-0_-kA35"
      }
    },
    {
      "cell_type": "markdown",
      "source": [
        "### Existing Plant Data sets\n",
        "Promising data sets include:\n",
        "- [PlantDoc dataset](https://github.com/pratikkayal/PlantDoc-Dataset)\n",
        "- [Plant Leaf dataset](https://data.mendeley.com/datasets/tywbtsjrjv/1)\n",
        "- [Plant Village dataset](https://knowyourdata-tfds.withgoogle.com/#tab=STATS&dataset=plant_village)  \n",
        "\n",
        "#### PlantDoc Dataset\n",
        "##### GitHub\n",
        "https://github.com/pratikkayal/PlantDoc-Dataset    \n",
        "\n",
        "##### License\n",
        "Creative Commons Attribution 4.0 International [Link](https://github.com/pratikkayal/PlantDoc-Dataset/blob/master/LICENSE.txt).\n",
        "\n",
        "##### Bibtex\n",
        "@inproceedings{10.1145/3371158.3371196,\n",
        "author = {Singh, Davinder and Jain, Naman and Jain, Pranjali and Kayal, Pratik and Kumawat, Sudhakar and Batra, Nipun},\n",
        "title = {PlantDoc: A Dataset for Visual Plant Disease Detection},\n",
        "year = {2020},\n",
        "isbn = {9781450377386},\n",
        "publisher = {Association for Computing Machinery},\n",
        "address = {New York, NY, USA},\n",
        "url = {https://doi.org/10.1145/3371158.3371196},\n",
        "doi = {10.1145/3371158.3371196},\n",
        "booktitle = {Proceedings of the 7th ACM IKDD CoDS and 25th COMAD},\n",
        "pages = {249–253},\n",
        "numpages = {5},\n",
        "keywords = {Deep Learning, Object Detection, Image Classification},\n",
        "location = {Hyderabad, India},\n",
        "series = {CoDS COMAD 2020}\n",
        "}\n",
        "##### Paper\n",
        "[PlantDoc: A Dataset for Visual Plant Disease Detecton](https://arxiv.org/abs/1911.10317)\n",
        "\n",
        "__From the abstract:__\n",
        "India loses 35% of the annual crop yield due to plant diseases. Early detection of plant diseases remains difficult due to the lack of lab infrastructure and expertise. In this paper, we explore the possibility of computer vision approaches for scalable and early plant disease detection. The lack of availability of sufficiently large-scale non-lab data set remains a major challenge for enabling vision based plant disease detection. Against this background, we present __PlantDoc: a dataset for visual plant disease detection. Our dataset contains 2,598 data points in total across 13 plant species and up to 17 classes of diseases, involving approximately 300 human hours of effort in annotating internet scraped images.__ To show the efficacy of our dataset, we learn 3 models for the task of plant disease classification. Our results show that modelling using our dataset can increase the classification accuracy by up to 31%. We believe that our dataset can help reduce the entry barrier of computer vision techniques in plant disease detection."
      ],
      "metadata": {
        "id": "BN_5wMKckfwx"
      }
    },
    {
      "cell_type": "markdown",
      "source": [
        "#### Explore PlantDoc Dataset\n"
      ],
      "metadata": {
        "id": "E3hZVnjBmXca"
      }
    },
    {
      "cell_type": "code",
      "source": [
        "from pathlib import Path\n",
        "# def walk_through_dir(dir_path):\n",
        "#   \"\"\"\n",
        "#   Walks through dir_path returning its contents.\n",
        "#   Args:\n",
        "#     dir_path (str or pathlib.Path): target directory\n",
        "  \n",
        "#   Returns:\n",
        "#     A print out of:\n",
        "#       number of subdiretories in dir_path\n",
        "#       number of images (files) in each subdirectory\n",
        "#       name of each subdirectory\n",
        "#   \"\"\"\n",
        "#   for dirpath, dirnames, filenames in os.walk(dir_path):\n",
        "#     print(f\"There are {len(dirnames)} directories and {len(filenames)} images in '{dirpath}'.\")\n",
        "import glob\n",
        "def walk_through_dir(dir_path):\n",
        "\n",
        "    data = []\n",
        "    for dirpath in Path(dir_path).rglob('*'):\n",
        "        if dirpath.is_dir():\n",
        "            path_to_images = dir_path + \"/\" + dirpath.parent.name + \"/\" + dirpath.name\n",
        "            n_images_in_directory_at_path = len(glob.glob(path_to_images + \"/*.jp*g\"))\n",
        "            if n_images_in_directory_at_path > 0:\n",
        "              data.append([n_images_in_directory_at_path,  dirpath.parent.name, dirpath.name])\n",
        "    return data\n"
      ],
      "metadata": {
        "id": "vIAlBxHWm4f1"
      },
      "execution_count": 8,
      "outputs": []
    },
    {
      "cell_type": "code",
      "source": [
        "# Download data files from GitHub\n",
        "from typing import Optional\n",
        "from pathlib import Path\n",
        "import zipfile\n",
        "import urllib.request\n",
        "from concurrent.futures import ThreadPoolExecutor\n",
        "\n",
        "class Content:\n",
        "    def __init__(self, base_dir: Optional[Path] = None) -> None:\n",
        "        self.base_dir = base_dir or Path.cwd()\n",
        "    \n",
        "    def create_dir(self, path: Optional[Path] = None) -> None:\n",
        "        path = path or self.base_dir\n",
        "        path.mkdir(parents=True, exist_ok=True)\n",
        "    \n",
        "    def get_file_path(self, url: str) -> Path:\n",
        "        parts = Path(url).parts\n",
        "        filename = parts[-1]\n",
        "        return self.base_dir / filename\n",
        "\n",
        "class Downloader:\n",
        "    def __init__(self, url: str, content: Content) -> None:\n",
        "        self.url = url\n",
        "        self.file_path = content.get_file_path(self.url)\n",
        "    \n",
        "    def download(self) -> None:\n",
        "        with ThreadPoolExecutor() as executor:\n",
        "            executor.submit(urllib.request.urlretrieve, self.url, self.file_path)\n",
        "\n",
        "    def extract(self) -> None:\n",
        "        with zipfile.ZipFile(self.file_path, 'r') as zip_ref:\n",
        "            zip_ref.extractall(self.file_path.parent)\n",
        "        self.file_path.unlink()\n",
        "\n",
        "\n",
        "\n"
      ],
      "metadata": {
        "id": "isNoB3WsnLgN"
      },
      "execution_count": 3,
      "outputs": []
    },
    {
      "cell_type": "code",
      "source": [
        "# download.\n",
        "url = \"https://github.com/pratikkayal/PlantDoc-Dataset/archive/master.zip\"\n",
        "content_dir = Path(\".\")\n",
        "content = Content(content_dir)\n",
        "content.create_dir()\n",
        "downloader = Downloader(url, content)\n",
        "downloader.download()\n",
        "downloader.extract()"
      ],
      "metadata": {
        "id": "tqh1myfasZLJ"
      },
      "execution_count": 4,
      "outputs": []
    },
    {
      "cell_type": "code",
      "source": [
        "# Check out the directory structure.\n",
        "data = walk_through_dir(\"/content/PlantDoc-Dataset-master\")\n",
        "data"
      ],
      "metadata": {
        "id": "KrSrU40qsaL1",
        "colab": {
          "base_uri": "https://localhost:8080/"
        },
        "outputId": "cd1a6721-6020-46a5-ed48-732f2cfadbf9"
      },
      "execution_count": 9,
      "outputs": [
        {
          "output_type": "execute_result",
          "data": {
            "text/plain": [
              "[[4, 'test', 'Corn Gray leaf spot'],\n",
              " [8, 'test', 'Soyabean leaf'],\n",
              " [10, 'test', 'Apple rust leaf'],\n",
              " [9, 'test', 'Bell_pepper leaf spot'],\n",
              " [10, 'test', 'Tomato leaf late blight'],\n",
              " [10, 'test', 'Cherry leaf'],\n",
              " [11, 'test', 'Blueberry leaf'],\n",
              " [6, 'test', 'Tomato mold leaf'],\n",
              " [8, 'test', 'Tomato leaf'],\n",
              " [10, 'test', 'Tomato leaf mosaic virus'],\n",
              " [9, 'test', 'Tomato leaf bacterial spot'],\n",
              " [12, 'test', 'Corn leaf blight'],\n",
              " [8, 'test', 'Bell_pepper leaf'],\n",
              " [7, 'test', 'Raspberry leaf'],\n",
              " [9, 'test', 'Apple leaf'],\n",
              " [12, 'test', 'grape leaf'],\n",
              " [10, 'test', 'Corn rust leaf'],\n",
              " [8, 'test', 'grape leaf black rot'],\n",
              " [9, 'test', 'Tomato Early blight leaf'],\n",
              " [8, 'test', 'Potato leaf late blight'],\n",
              " [6, 'test', 'Squash Powdery mildew leaf'],\n",
              " [8, 'test', 'Strawberry leaf'],\n",
              " [11, 'test', 'Tomato Septoria leaf spot'],\n",
              " [8, 'test', 'Potato leaf early blight'],\n",
              " [10, 'test', 'Apple Scab Leaf'],\n",
              " [6, 'test', 'Tomato leaf yellow virus'],\n",
              " [9, 'test', 'Peach leaf'],\n",
              " [64, 'train', 'Corn Gray leaf spot'],\n",
              " [57, 'train', 'Soyabean leaf'],\n",
              " [79, 'train', 'Apple rust leaf'],\n",
              " [62, 'train', 'Bell_pepper leaf spot'],\n",
              " [101, 'train', 'Tomato leaf late blight'],\n",
              " [47, 'train', 'Cherry leaf'],\n",
              " [106, 'train', 'Blueberry leaf'],\n",
              " [85, 'train', 'Tomato mold leaf'],\n",
              " [55, 'train', 'Tomato leaf'],\n",
              " [44, 'train', 'Tomato leaf mosaic virus'],\n",
              " [101, 'train', 'Tomato leaf bacterial spot'],\n",
              " [2, 'train', 'Tomato two spotted spider mites leaf'],\n",
              " [180, 'train', 'Corn leaf blight'],\n",
              " [53, 'train', 'Bell_pepper leaf'],\n",
              " [112, 'train', 'Raspberry leaf'],\n",
              " [82, 'train', 'Apple leaf'],\n",
              " [57, 'train', 'grape leaf'],\n",
              " [106, 'train', 'Corn rust leaf'],\n",
              " [56, 'train', 'grape leaf black rot'],\n",
              " [79, 'train', 'Tomato Early blight leaf'],\n",
              " [97, 'train', 'Potato leaf late blight'],\n",
              " [124, 'train', 'Squash Powdery mildew leaf'],\n",
              " [88, 'train', 'Strawberry leaf'],\n",
              " [139, 'train', 'Tomato Septoria leaf spot'],\n",
              " [109, 'train', 'Potato leaf early blight'],\n",
              " [83, 'train', 'Apple Scab Leaf'],\n",
              " [70, 'train', 'Tomato leaf yellow virus'],\n",
              " [103, 'train', 'Peach leaf']]"
            ]
          },
          "metadata": {},
          "execution_count": 9
        }
      ]
    },
    {
      "cell_type": "code",
      "source": [
        "def draw_histogram(data_list):\n",
        "    train_data = [i for i in data_list if i[1] == 'train']\n",
        "    test_data = [i for i in data_list if i[1] == 'test']\n",
        "    \n",
        "    train_classes = [i[2] for i in train_data]\n",
        "    test_classes = [i[2] for i in test_data]\n",
        "    \n",
        "    train_counts = [i[0] for i in train_data]\n",
        "    test_counts = [i[0] for i in test_data]\n",
        "    \n",
        "    plt.figure(figsize=(20,10))\n",
        "    plt.bar(train_classes, train_counts, label='Train')\n",
        "    plt.bar(test_classes, test_counts, label='Test')\n",
        "    plt.xlabel('Class')\n",
        "    plt.ylabel('Number of Images')\n",
        "    plt.legend()\n",
        "    plt.xticks(rotation=90)\n",
        "    plt.show()\n",
        "\n",
        "draw_histogram(data)"
      ],
      "metadata": {
        "id": "N7s3-xkrAP_T",
        "outputId": "41dff821-6f9d-477d-853d-abeab4e5a55e",
        "colab": {
          "base_uri": "https://localhost:8080/",
          "height": 817
        }
      },
      "execution_count": 47,
      "outputs": [
        {
          "output_type": "stream",
          "name": "stdout",
          "text": [
            "[[106, 'train', 'Blueberry leaf'], [57, 'train', 'grape leaf'], [109, 'train', 'Potato leaf early blight'], [106, 'train', 'Corn rust leaf'], [57, 'train', 'Soyabean leaf'], [85, 'train', 'Tomato mold leaf'], [64, 'train', 'Corn Gray leaf spot'], [103, 'train', 'Peach leaf'], [82, 'train', 'Apple leaf'], [97, 'train', 'Potato leaf late blight'], [47, 'train', 'Cherry leaf'], [112, 'train', 'Raspberry leaf'], [2, 'train', 'Tomato two spotted spider mites leaf'], [62, 'train', 'Bell_pepper leaf spot'], [101, 'train', 'Tomato leaf late blight'], [79, 'train', 'Tomato Early blight leaf'], [124, 'train', 'Squash Powdery mildew leaf'], [83, 'train', 'Apple Scab Leaf'], [70, 'train', 'Tomato leaf yellow virus'], [56, 'train', 'grape leaf black rot'], [88, 'train', 'Strawberry leaf'], [79, 'train', 'Apple rust leaf'], [101, 'train', 'Tomato leaf bacterial spot'], [44, 'train', 'Tomato leaf mosaic virus'], [55, 'train', 'Tomato leaf'], [139, 'train', 'Tomato Septoria leaf spot'], [53, 'train', 'Bell_pepper leaf'], [180, 'train', 'Corn leaf blight'], [11, 'test', 'Blueberry leaf'], [12, 'test', 'grape leaf'], [8, 'test', 'Potato leaf early blight'], [10, 'test', 'Corn rust leaf'], [8, 'test', 'Soyabean leaf'], [6, 'test', 'Tomato mold leaf'], [4, 'test', 'Corn Gray leaf spot'], [9, 'test', 'Peach leaf'], [9, 'test', 'Apple leaf'], [8, 'test', 'Potato leaf late blight'], [10, 'test', 'Cherry leaf'], [7, 'test', 'Raspberry leaf'], [9, 'test', 'Bell_pepper leaf spot'], [10, 'test', 'Tomato leaf late blight'], [9, 'test', 'Tomato Early blight leaf'], [6, 'test', 'Squash Powdery mildew leaf'], [10, 'test', 'Apple Scab Leaf'], [6, 'test', 'Tomato leaf yellow virus'], [8, 'test', 'grape leaf black rot'], [8, 'test', 'Strawberry leaf'], [10, 'test', 'Apple rust leaf'], [9, 'test', 'Tomato leaf bacterial spot'], [10, 'test', 'Tomato leaf mosaic virus'], [8, 'test', 'Tomato leaf'], [11, 'test', 'Tomato Septoria leaf spot'], [8, 'test', 'Bell_pepper leaf'], [12, 'test', 'Corn leaf blight']]\n"
          ]
        },
        {
          "output_type": "display_data",
          "data": {
            "text/plain": [
              "<Figure size 1440x720 with 1 Axes>"
            ],
            "image/png": "[encoded data removed]"
          },
          "metadata": {
            "needs_background": "light"
          }
        }
      ]
    },
    {
      "cell_type": "markdown",
      "source": [],
      "metadata": {
        "id": "MOmaSmS1sSLo"
      }
    },
    {
      "cell_type": "code",
      "source": [
        "import random, glob\n",
        "\n",
        "base_path = '/content/PlantDoc-Dataset-master'\n",
        "\n",
        "img_dir = random.choice([i[2] for i in data]) # randomly select a directory from the list\n",
        "print(f\"{img_dir}\")\n",
        "path_to_img_files = f\"{base_path}/{img_dir}\"\n",
        "print(f\"{path_to_img_files}\")\n",
        "img_files = path_to_img_files.glob(\"*.jp*g\") # get all jpg and jpeg files in the directory\n",
        "print(f\"{img_files}\")\n",
        "#print(f\"{random.choice(img_files)}\") # randomly select an image file from the list"
      ],
      "metadata": {
        "id": "-I1ykT1nnhvZ",
        "outputId": "a89fb297-97a1-4ccb-c0a1-5bea4078805a",
        "colab": {
          "base_uri": "https://localhost:8080/",
          "height": 269
        }
      },
      "execution_count": 14,
      "outputs": [
        {
          "output_type": "stream",
          "name": "stdout",
          "text": [
            "Tomato leaf\n",
            "/content/PlantDoc-Dataset-master/Tomato leaf\n"
          ]
        },
        {
          "output_type": "error",
          "ename": "AttributeError",
          "evalue": "ignored",
          "traceback": [
            "\u001b[0;31m---------------------------------------------------------------------------\u001b[0m",
            "\u001b[0;31mAttributeError\u001b[0m                            Traceback (most recent call last)",
            "\u001b[0;32m<ipython-input-14-d991f81be661>\u001b[0m in \u001b[0;36m<module>\u001b[0;34m\u001b[0m\n\u001b[1;32m      7\u001b[0m \u001b[0mpath_to_img_files\u001b[0m \u001b[0;34m=\u001b[0m \u001b[0;34mf\"{base_path}/{img_dir}\"\u001b[0m\u001b[0;34m\u001b[0m\u001b[0;34m\u001b[0m\u001b[0m\n\u001b[1;32m      8\u001b[0m \u001b[0mprint\u001b[0m\u001b[0;34m(\u001b[0m\u001b[0;34mf\"{path_to_img_files}\"\u001b[0m\u001b[0;34m)\u001b[0m\u001b[0;34m\u001b[0m\u001b[0;34m\u001b[0m\u001b[0m\n\u001b[0;32m----> 9\u001b[0;31m \u001b[0mimg_files\u001b[0m \u001b[0;34m=\u001b[0m \u001b[0mpath_to_img_files\u001b[0m\u001b[0;34m.\u001b[0m\u001b[0mglob\u001b[0m\u001b[0;34m(\u001b[0m\u001b[0;34m\"*.jp*g\"\u001b[0m\u001b[0;34m)\u001b[0m \u001b[0;31m# get all jpg and jpeg files in the directory\u001b[0m\u001b[0;34m\u001b[0m\u001b[0;34m\u001b[0m\u001b[0m\n\u001b[0m\u001b[1;32m     10\u001b[0m \u001b[0mprint\u001b[0m\u001b[0;34m(\u001b[0m\u001b[0;34mf\"{img_files}\"\u001b[0m\u001b[0;34m)\u001b[0m\u001b[0;34m\u001b[0m\u001b[0;34m\u001b[0m\u001b[0m\n\u001b[1;32m     11\u001b[0m \u001b[0;31m#print(f\"{random.choice(img_files)}\") # randomly select an image file from the list\u001b[0m\u001b[0;34m\u001b[0m\u001b[0;34m\u001b[0m\u001b[0;34m\u001b[0m\u001b[0m\n",
            "\u001b[0;31mAttributeError\u001b[0m: 'str' object has no attribute 'glob'"
          ]
        }
      ]
    }
  ]
}