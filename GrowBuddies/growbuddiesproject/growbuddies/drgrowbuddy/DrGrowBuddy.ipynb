{
  "nbformat": 4,
  "nbformat_minor": 0,
  "metadata": {
    "colab": {
      "provenance": [],
      "authorship_tag": "ABX9TyM5XZg94KTu0YEQ9FLyWdzd",
      "include_colab_link": true
    },
    "kernelspec": {
      "name": "python3",
      "display_name": "Python 3"
    },
    "language_info": {
      "name": "python"
    }
  },
  "cells": [
    {
      "cell_type": "markdown",
      "metadata": {
        "id": "view-in-github",
        "colab_type": "text"
      },
      "source": [
        "<a href=\"https://colab.research.google.com/github/solarslurpi/GrowBuddies/blob/main/GrowBuddies/growbuddiesproject/growbuddies/drgrowbuddy/DrGrowBuddy.ipynb\" target=\"_parent\"><img src=\"https://colab.research.google.com/assets/colab-badge.svg\" alt=\"Open In Colab\"/></a>"
      ]
    },
    {
      "cell_type": "markdown",
      "source": [
        "# The Journey Begins\n",
        "Today is 1/16/2022. MLK day and all that.  Starting my DrGrowBuddy Journey.  The first thing I want to do is run a training/test/validation run using two categories: healthy and unhealthy.  This will get me started down the data pipeline as well as just getting started."
      ],
      "metadata": {
        "id": "1L7xfn6obE1D"
      }
    },
    {
      "cell_type": "markdown",
      "source": [
        "I found [this PyTorch GitHub](https://github.com/abdullahselek/plant-disease-classification-pytorch) with Python code for Plant Disease Detection.  HappyDay!"
      ],
      "metadata": {
        "id": "AWH6AYbHb1t1"
      }
    },
    {
      "cell_type": "markdown",
      "source": [
        "## Import Libraries"
      ],
      "metadata": {
        "id": "sG4VxrJHcwm9"
      }
    },
    {
      "cell_type": "code",
      "source": [
        "import torch"
      ],
      "metadata": {
        "id": "IevzPnRmcqeL"
      },
      "execution_count": null,
      "outputs": []
    },
    {
      "cell_type": "code",
      "source": [
        "# CPU or GPU\n",
        "DEVICE = torch.device(\"cuda:0\" if torch.cuda.is_available() else \"cpu\")\n",
        "print(f\"The device running the code is the {DEVICE}.\")"
      ],
      "metadata": {
        "colab": {
          "base_uri": "https://localhost:8080/"
        },
        "id": "FH2gbjIFcgFA",
        "outputId": "c27a398e-f866-4885-a4d1-f16460249c71"
      },
      "execution_count": null,
      "outputs": [
        {
          "output_type": "stream",
          "name": "stdout",
          "text": [
            "The device running the code is the cpu\n"
          ]
        }
      ]
    },
    {
      "cell_type": "markdown",
      "source": [
        "## Get Data\n",
        "This is interesting because my goal is to diagnose cannabis plant nutrient deficiencies, then move on to diseases and then pests.  I don't have a lot of images.  So my options for a lot of images include scraping the internet, using existing plant databases, using my own images.  Let's see..."
      ],
      "metadata": {
        "id": "0MMF-0_-kA35"
      }
    },
    {
      "cell_type": "markdown",
      "source": [
        "### Existing Plant Data sets\n",
        "Promising data sets include:\n",
        "- [PlantDoc dataset](https://github.com/pratikkayal/PlantDoc-Dataset)\n",
        "- [Plant Leaf dataset](https://data.mendeley.com/datasets/tywbtsjrjv/1)\n",
        "- [Plant Village dataset](https://knowyourdata-tfds.withgoogle.com/#tab=STATS&dataset=plant_village)  \n",
        "\n",
        "#### PlantDoc Dataset\n",
        "##### GitHub\n",
        "https://github.com/pratikkayal/PlantDoc-Dataset    \n",
        "\n",
        "##### License\n",
        "Creative Commons Attribution 4.0 International [Link](https://github.com/pratikkayal/PlantDoc-Dataset/blob/master/LICENSE.txt).\n",
        "\n",
        "##### Bibtex\n",
        "@inproceedings{10.1145/3371158.3371196,\n",
        "author = {Singh, Davinder and Jain, Naman and Jain, Pranjali and Kayal, Pratik and Kumawat, Sudhakar and Batra, Nipun},\n",
        "title = {PlantDoc: A Dataset for Visual Plant Disease Detection},\n",
        "year = {2020},\n",
        "isbn = {9781450377386},\n",
        "publisher = {Association for Computing Machinery},\n",
        "address = {New York, NY, USA},\n",
        "url = {https://doi.org/10.1145/3371158.3371196},\n",
        "doi = {10.1145/3371158.3371196},\n",
        "booktitle = {Proceedings of the 7th ACM IKDD CoDS and 25th COMAD},\n",
        "pages = {249–253},\n",
        "numpages = {5},\n",
        "keywords = {Deep Learning, Object Detection, Image Classification},\n",
        "location = {Hyderabad, India},\n",
        "series = {CoDS COMAD 2020}\n",
        "}\n",
        "##### Paper\n",
        "[PlantDoc: A Dataset for Visual Plant Disease Detecton](https://arxiv.org/abs/1911.10317)\n",
        "\n",
        "__From the abstract:__\n",
        "India loses 35% of the annual crop yield due to plant diseases. Early detection of plant diseases remains difficult due to the lack of lab infrastructure and expertise. In this paper, we explore the possibility of computer vision approaches for scalable and early plant disease detection. The lack of availability of sufficiently large-scale non-lab data set remains a major challenge for enabling vision based plant disease detection. Against this background, we present __PlantDoc: a dataset for visual plant disease detection. Our dataset contains 2,598 data points in total across 13 plant species and up to 17 classes of diseases, involving approximately 300 human hours of effort in annotating internet scraped images.__ To show the efficacy of our dataset, we learn 3 models for the task of plant disease classification. Our results show that modelling using our dataset can increase the classification accuracy by up to 31%. We believe that our dataset can help reduce the entry barrier of computer vision techniques in plant disease detection."
      ],
      "metadata": {
        "id": "BN_5wMKckfwx"
      }
    },
    {
      "cell_type": "markdown",
      "source": [
        "#### Explore PlantDoc Dataset\n"
      ],
      "metadata": {
        "id": "E3hZVnjBmXca"
      }
    },
    {
      "cell_type": "code",
      "source": [
        "import os\n",
        "# def walk_through_dir(dir_path):\n",
        "#   \"\"\"\n",
        "#   Walks through dir_path returning its contents.\n",
        "#   Args:\n",
        "#     dir_path (str or pathlib.Path): target directory\n",
        "  \n",
        "#   Returns:\n",
        "#     A print out of:\n",
        "#       number of subdiretories in dir_path\n",
        "#       number of images (files) in each subdirectory\n",
        "#       name of each subdirectory\n",
        "#   \"\"\"\n",
        "#   for dirpath, dirnames, filenames in os.walk(dir_path):\n",
        "#     print(f\"There are {len(dirnames)} directories and {len(filenames)} images in '{dirpath}'.\")\n",
        "\n",
        "def walk_through_dir(dir_path):\n",
        "    print(\"# Subdirectories\\t# Images\\tName \")\n",
        "    for dirpath, dirnames, filenames in os.walk(dir_path):\n",
        "        print(f\"{len(dirnames)}\\t\\t\\t{len(filenames)}\\t\\t{dirpath}\")"
      ],
      "metadata": {
        "id": "vIAlBxHWm4f1"
      },
      "execution_count": 28,
      "outputs": []
    },
    {
      "cell_type": "code",
      "source": [
        "# Download data files from GitHub\n",
        "from typing import Optional\n",
        "from pathlib import Path\n",
        "import zipfile\n",
        "import urllib.request\n",
        "from concurrent.futures import ThreadPoolExecutor\n",
        "\n",
        "class Content:\n",
        "    def __init__(self, base_dir: Optional[Path] = None) -> None:\n",
        "        self.base_dir = base_dir or Path.cwd()\n",
        "    \n",
        "    def create_dir(self, path: Optional[Path] = None) -> None:\n",
        "        path = path or self.base_dir\n",
        "        path.mkdir(parents=True, exist_ok=True)\n",
        "    \n",
        "    def get_file_path(self, url: str) -> Path:\n",
        "        parts = Path(url).parts\n",
        "        filename = parts[-1]\n",
        "        return self.base_dir / filename\n",
        "\n",
        "class Downloader:\n",
        "    def __init__(self, url: str, content: Content) -> None:\n",
        "        self.url = url\n",
        "        self.file_path = content.get_file_path(self.url)\n",
        "    \n",
        "    def download(self) -> None:\n",
        "        with ThreadPoolExecutor() as executor:\n",
        "            executor.submit(urllib.request.urlretrieve, self.url, self.file_path)\n",
        "\n",
        "    def extract(self) -> None:\n",
        "        with zipfile.ZipFile(self.file_path, 'r') as zip_ref:\n",
        "            zip_ref.extractall(self.file_path.parent)\n",
        "        self.file_path.unlink()\n",
        "\n",
        "\n",
        "\n"
      ],
      "metadata": {
        "id": "isNoB3WsnLgN"
      },
      "execution_count": null,
      "outputs": []
    },
    {
      "cell_type": "code",
      "source": [
        "# download.\n",
        "url = \"https://github.com/pratikkayal/PlantDoc-Dataset/archive/master.zip\"\n",
        "content_dir = Path(\".\")\n",
        "content = Content(content_dir)\n",
        "content.create_dir()\n",
        "downloader = Downloader(url, content)\n",
        "downloader.download()\n",
        "downloader.extract()"
      ],
      "metadata": {
        "id": "tqh1myfasZLJ"
      },
      "execution_count": 30,
      "outputs": []
    },
    {
      "cell_type": "code",
      "source": [
        "# Check out the directory structure.\n",
        "walk_through_dir(\"/content/PlantDoc-Dataset-master\")"
      ],
      "metadata": {
        "id": "KrSrU40qsaL1",
        "outputId": "05cd2ebc-a08b-46b6-ccef-5de2afb564be",
        "colab": {
          "base_uri": "https://localhost:8080/"
        }
      },
      "execution_count": 32,
      "outputs": [
        {
          "output_type": "stream",
          "name": "stdout",
          "text": [
            "# Subdirectories\t# Images\tName \n",
            "2\t\t\t3\t\t/content/PlantDoc-Dataset-master\n",
            "28\t\t\t0\t\t/content/PlantDoc-Dataset-master/train\n",
            "0\t\t\t106\t\t/content/PlantDoc-Dataset-master/train/Blueberry leaf\n",
            "0\t\t\t57\t\t/content/PlantDoc-Dataset-master/train/grape leaf\n",
            "0\t\t\t109\t\t/content/PlantDoc-Dataset-master/train/Potato leaf early blight\n",
            "0\t\t\t106\t\t/content/PlantDoc-Dataset-master/train/Corn rust leaf\n",
            "0\t\t\t57\t\t/content/PlantDoc-Dataset-master/train/Soyabean leaf\n",
            "0\t\t\t85\t\t/content/PlantDoc-Dataset-master/train/Tomato mold leaf\n",
            "0\t\t\t64\t\t/content/PlantDoc-Dataset-master/train/Corn Gray leaf spot\n",
            "0\t\t\t103\t\t/content/PlantDoc-Dataset-master/train/Peach leaf\n",
            "0\t\t\t82\t\t/content/PlantDoc-Dataset-master/train/Apple leaf\n",
            "0\t\t\t97\t\t/content/PlantDoc-Dataset-master/train/Potato leaf late blight\n",
            "0\t\t\t47\t\t/content/PlantDoc-Dataset-master/train/Cherry leaf\n",
            "0\t\t\t112\t\t/content/PlantDoc-Dataset-master/train/Raspberry leaf\n",
            "0\t\t\t2\t\t/content/PlantDoc-Dataset-master/train/Tomato two spotted spider mites leaf\n",
            "0\t\t\t62\t\t/content/PlantDoc-Dataset-master/train/Bell_pepper leaf spot\n",
            "0\t\t\t101\t\t/content/PlantDoc-Dataset-master/train/Tomato leaf late blight\n",
            "0\t\t\t79\t\t/content/PlantDoc-Dataset-master/train/Tomato Early blight leaf\n",
            "0\t\t\t124\t\t/content/PlantDoc-Dataset-master/train/Squash Powdery mildew leaf\n",
            "0\t\t\t83\t\t/content/PlantDoc-Dataset-master/train/Apple Scab Leaf\n",
            "0\t\t\t70\t\t/content/PlantDoc-Dataset-master/train/Tomato leaf yellow virus\n",
            "0\t\t\t56\t\t/content/PlantDoc-Dataset-master/train/grape leaf black rot\n",
            "0\t\t\t88\t\t/content/PlantDoc-Dataset-master/train/Strawberry leaf\n",
            "0\t\t\t79\t\t/content/PlantDoc-Dataset-master/train/Apple rust leaf\n",
            "0\t\t\t101\t\t/content/PlantDoc-Dataset-master/train/Tomato leaf bacterial spot\n",
            "0\t\t\t44\t\t/content/PlantDoc-Dataset-master/train/Tomato leaf mosaic virus\n",
            "0\t\t\t55\t\t/content/PlantDoc-Dataset-master/train/Tomato leaf\n",
            "0\t\t\t140\t\t/content/PlantDoc-Dataset-master/train/Tomato Septoria leaf spot\n",
            "0\t\t\t53\t\t/content/PlantDoc-Dataset-master/train/Bell_pepper leaf\n",
            "0\t\t\t180\t\t/content/PlantDoc-Dataset-master/train/Corn leaf blight\n",
            "27\t\t\t0\t\t/content/PlantDoc-Dataset-master/test\n",
            "0\t\t\t11\t\t/content/PlantDoc-Dataset-master/test/Blueberry leaf\n",
            "0\t\t\t12\t\t/content/PlantDoc-Dataset-master/test/grape leaf\n",
            "0\t\t\t8\t\t/content/PlantDoc-Dataset-master/test/Potato leaf early blight\n",
            "0\t\t\t10\t\t/content/PlantDoc-Dataset-master/test/Corn rust leaf\n",
            "0\t\t\t8\t\t/content/PlantDoc-Dataset-master/test/Soyabean leaf\n",
            "0\t\t\t6\t\t/content/PlantDoc-Dataset-master/test/Tomato mold leaf\n",
            "0\t\t\t4\t\t/content/PlantDoc-Dataset-master/test/Corn Gray leaf spot\n",
            "0\t\t\t9\t\t/content/PlantDoc-Dataset-master/test/Peach leaf\n",
            "0\t\t\t9\t\t/content/PlantDoc-Dataset-master/test/Apple leaf\n",
            "0\t\t\t8\t\t/content/PlantDoc-Dataset-master/test/Potato leaf late blight\n",
            "0\t\t\t10\t\t/content/PlantDoc-Dataset-master/test/Cherry leaf\n",
            "0\t\t\t7\t\t/content/PlantDoc-Dataset-master/test/Raspberry leaf\n",
            "0\t\t\t9\t\t/content/PlantDoc-Dataset-master/test/Bell_pepper leaf spot\n",
            "0\t\t\t10\t\t/content/PlantDoc-Dataset-master/test/Tomato leaf late blight\n",
            "0\t\t\t9\t\t/content/PlantDoc-Dataset-master/test/Tomato Early blight leaf\n",
            "0\t\t\t6\t\t/content/PlantDoc-Dataset-master/test/Squash Powdery mildew leaf\n",
            "0\t\t\t10\t\t/content/PlantDoc-Dataset-master/test/Apple Scab Leaf\n",
            "0\t\t\t6\t\t/content/PlantDoc-Dataset-master/test/Tomato leaf yellow virus\n",
            "0\t\t\t8\t\t/content/PlantDoc-Dataset-master/test/grape leaf black rot\n",
            "0\t\t\t8\t\t/content/PlantDoc-Dataset-master/test/Strawberry leaf\n",
            "0\t\t\t10\t\t/content/PlantDoc-Dataset-master/test/Apple rust leaf\n",
            "0\t\t\t9\t\t/content/PlantDoc-Dataset-master/test/Tomato leaf bacterial spot\n",
            "0\t\t\t10\t\t/content/PlantDoc-Dataset-master/test/Tomato leaf mosaic virus\n",
            "0\t\t\t8\t\t/content/PlantDoc-Dataset-master/test/Tomato leaf\n",
            "0\t\t\t11\t\t/content/PlantDoc-Dataset-master/test/Tomato Septoria leaf spot\n",
            "0\t\t\t8\t\t/content/PlantDoc-Dataset-master/test/Bell_pepper leaf\n",
            "0\t\t\t12\t\t/content/PlantDoc-Dataset-master/test/Corn leaf blight\n"
          ]
        }
      ]
    },
    {
      "cell_type": "markdown",
      "source": [],
      "metadata": {
        "id": "MOmaSmS1sSLo"
      }
    }
  ]
}