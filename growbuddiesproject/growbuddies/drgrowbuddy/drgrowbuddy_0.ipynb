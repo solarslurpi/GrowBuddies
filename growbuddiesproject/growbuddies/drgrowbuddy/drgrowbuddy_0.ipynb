{
  "nbformat": 4,
  "nbformat_minor": 0,
  "metadata": {
    "colab": {
      "provenance": [],
      "toc_visible": true,
      "authorship_tag": "ABX9TyPZz6ESLDGz5YUcuAnSkwWu",
      "include_colab_link": true
    },
    "kernelspec": {
      "name": "python3",
      "display_name": "Python 3"
    },
    "language_info": {
      "name": "python"
    },
    "accelerator": "GPU",
    "gpuClass": "standard",
    "widgets": {
      "application/vnd.jupyter.widget-state+json": {
        "583ee658dd514a61a244728d0e7a81e9": {
          "model_module": "@jupyter-widgets/controls",
          "model_name": "HBoxModel",
          "model_module_version": "1.5.0",
          "state": {
            "_dom_classes": [],
            "_model_module": "@jupyter-widgets/controls",
            "_model_module_version": "1.5.0",
            "_model_name": "HBoxModel",
            "_view_count": null,
            "_view_module": "@jupyter-widgets/controls",
            "_view_module_version": "1.5.0",
            "_view_name": "HBoxView",
            "box_style": "",
            "children": [
              "IPY_MODEL_5de0b11b14cf43ba94114c274d699c41",
              "IPY_MODEL_e91a6489f5614be2834e0322499fdcf1",
              "IPY_MODEL_90dad2cdad5347fe947fcaa2c20fe7cd"
            ],
            "layout": "IPY_MODEL_511b481c0dff45aaa4e6024d4230b127"
          }
        },
        "5de0b11b14cf43ba94114c274d699c41": {
          "model_module": "@jupyter-widgets/controls",
          "model_name": "HTMLModel",
          "model_module_version": "1.5.0",
          "state": {
            "_dom_classes": [],
            "_model_module": "@jupyter-widgets/controls",
            "_model_module_version": "1.5.0",
            "_model_name": "HTMLModel",
            "_view_count": null,
            "_view_module": "@jupyter-widgets/controls",
            "_view_module_version": "1.5.0",
            "_view_name": "HTMLView",
            "description": "",
            "description_tooltip": null,
            "layout": "IPY_MODEL_59f8293dacf44626bdf0cd0935a0c4e6",
            "placeholder": "​",
            "style": "IPY_MODEL_6bfe9529e2634a889e525c129f1e3773",
            "value": "100%"
          }
        },
        "e91a6489f5614be2834e0322499fdcf1": {
          "model_module": "@jupyter-widgets/controls",
          "model_name": "FloatProgressModel",
          "model_module_version": "1.5.0",
          "state": {
            "_dom_classes": [],
            "_model_module": "@jupyter-widgets/controls",
            "_model_module_version": "1.5.0",
            "_model_name": "FloatProgressModel",
            "_view_count": null,
            "_view_module": "@jupyter-widgets/controls",
            "_view_module_version": "1.5.0",
            "_view_name": "ProgressView",
            "bar_style": "success",
            "description": "",
            "description_tooltip": null,
            "layout": "IPY_MODEL_18352d0924e84976bd1b17be534fcf7e",
            "max": 30,
            "min": 0,
            "orientation": "horizontal",
            "style": "IPY_MODEL_d06c54fe2cba4772b181730c408bbf68",
            "value": 30
          }
        },
        "90dad2cdad5347fe947fcaa2c20fe7cd": {
          "model_module": "@jupyter-widgets/controls",
          "model_name": "HTMLModel",
          "model_module_version": "1.5.0",
          "state": {
            "_dom_classes": [],
            "_model_module": "@jupyter-widgets/controls",
            "_model_module_version": "1.5.0",
            "_model_name": "HTMLModel",
            "_view_count": null,
            "_view_module": "@jupyter-widgets/controls",
            "_view_module_version": "1.5.0",
            "_view_name": "HTMLView",
            "description": "",
            "description_tooltip": null,
            "layout": "IPY_MODEL_b2088cd01b824c69a08ec70a06d3b147",
            "placeholder": "​",
            "style": "IPY_MODEL_bc35de7d72f54561b3ea922be599c861",
            "value": " 30/30 [03:09&lt;00:00,  6.69s/it]"
          }
        },
        "511b481c0dff45aaa4e6024d4230b127": {
          "model_module": "@jupyter-widgets/base",
          "model_name": "LayoutModel",
          "model_module_version": "1.2.0",
          "state": {
            "_model_module": "@jupyter-widgets/base",
            "_model_module_version": "1.2.0",
            "_model_name": "LayoutModel",
            "_view_count": null,
            "_view_module": "@jupyter-widgets/base",
            "_view_module_version": "1.2.0",
            "_view_name": "LayoutView",
            "align_content": null,
            "align_items": null,
            "align_self": null,
            "border": null,
            "bottom": null,
            "display": null,
            "flex": null,
            "flex_flow": null,
            "grid_area": null,
            "grid_auto_columns": null,
            "grid_auto_flow": null,
            "grid_auto_rows": null,
            "grid_column": null,
            "grid_gap": null,
            "grid_row": null,
            "grid_template_areas": null,
            "grid_template_columns": null,
            "grid_template_rows": null,
            "height": null,
            "justify_content": null,
            "justify_items": null,
            "left": null,
            "margin": null,
            "max_height": null,
            "max_width": null,
            "min_height": null,
            "min_width": null,
            "object_fit": null,
            "object_position": null,
            "order": null,
            "overflow": null,
            "overflow_x": null,
            "overflow_y": null,
            "padding": null,
            "right": null,
            "top": null,
            "visibility": null,
            "width": null
          }
        },
        "59f8293dacf44626bdf0cd0935a0c4e6": {
          "model_module": "@jupyter-widgets/base",
          "model_name": "LayoutModel",
          "model_module_version": "1.2.0",
          "state": {
            "_model_module": "@jupyter-widgets/base",
            "_model_module_version": "1.2.0",
            "_model_name": "LayoutModel",
            "_view_count": null,
            "_view_module": "@jupyter-widgets/base",
            "_view_module_version": "1.2.0",
            "_view_name": "LayoutView",
            "align_content": null,
            "align_items": null,
            "align_self": null,
            "border": null,
            "bottom": null,
            "display": null,
            "flex": null,
            "flex_flow": null,
            "grid_area": null,
            "grid_auto_columns": null,
            "grid_auto_flow": null,
            "grid_auto_rows": null,
            "grid_column": null,
            "grid_gap": null,
            "grid_row": null,
            "grid_template_areas": null,
            "grid_template_columns": null,
            "grid_template_rows": null,
            "height": null,
            "justify_content": null,
            "justify_items": null,
            "left": null,
            "margin": null,
            "max_height": null,
            "max_width": null,
            "min_height": null,
            "min_width": null,
            "object_fit": null,
            "object_position": null,
            "order": null,
            "overflow": null,
            "overflow_x": null,
            "overflow_y": null,
            "padding": null,
            "right": null,
            "top": null,
            "visibility": null,
            "width": null
          }
        },
        "6bfe9529e2634a889e525c129f1e3773": {
          "model_module": "@jupyter-widgets/controls",
          "model_name": "DescriptionStyleModel",
          "model_module_version": "1.5.0",
          "state": {
            "_model_module": "@jupyter-widgets/controls",
            "_model_module_version": "1.5.0",
            "_model_name": "DescriptionStyleModel",
            "_view_count": null,
            "_view_module": "@jupyter-widgets/base",
            "_view_module_version": "1.2.0",
            "_view_name": "StyleView",
            "description_width": ""
          }
        },
        "18352d0924e84976bd1b17be534fcf7e": {
          "model_module": "@jupyter-widgets/base",
          "model_name": "LayoutModel",
          "model_module_version": "1.2.0",
          "state": {
            "_model_module": "@jupyter-widgets/base",
            "_model_module_version": "1.2.0",
            "_model_name": "LayoutModel",
            "_view_count": null,
            "_view_module": "@jupyter-widgets/base",
            "_view_module_version": "1.2.0",
            "_view_name": "LayoutView",
            "align_content": null,
            "align_items": null,
            "align_self": null,
            "border": null,
            "bottom": null,
            "display": null,
            "flex": null,
            "flex_flow": null,
            "grid_area": null,
            "grid_auto_columns": null,
            "grid_auto_flow": null,
            "grid_auto_rows": null,
            "grid_column": null,
            "grid_gap": null,
            "grid_row": null,
            "grid_template_areas": null,
            "grid_template_columns": null,
            "grid_template_rows": null,
            "height": null,
            "justify_content": null,
            "justify_items": null,
            "left": null,
            "margin": null,
            "max_height": null,
            "max_width": null,
            "min_height": null,
            "min_width": null,
            "object_fit": null,
            "object_position": null,
            "order": null,
            "overflow": null,
            "overflow_x": null,
            "overflow_y": null,
            "padding": null,
            "right": null,
            "top": null,
            "visibility": null,
            "width": null
          }
        },
        "d06c54fe2cba4772b181730c408bbf68": {
          "model_module": "@jupyter-widgets/controls",
          "model_name": "ProgressStyleModel",
          "model_module_version": "1.5.0",
          "state": {
            "_model_module": "@jupyter-widgets/controls",
            "_model_module_version": "1.5.0",
            "_model_name": "ProgressStyleModel",
            "_view_count": null,
            "_view_module": "@jupyter-widgets/base",
            "_view_module_version": "1.2.0",
            "_view_name": "StyleView",
            "bar_color": null,
            "description_width": ""
          }
        },
        "b2088cd01b824c69a08ec70a06d3b147": {
          "model_module": "@jupyter-widgets/base",
          "model_name": "LayoutModel",
          "model_module_version": "1.2.0",
          "state": {
            "_model_module": "@jupyter-widgets/base",
            "_model_module_version": "1.2.0",
            "_model_name": "LayoutModel",
            "_view_count": null,
            "_view_module": "@jupyter-widgets/base",
            "_view_module_version": "1.2.0",
            "_view_name": "LayoutView",
            "align_content": null,
            "align_items": null,
            "align_self": null,
            "border": null,
            "bottom": null,
            "display": null,
            "flex": null,
            "flex_flow": null,
            "grid_area": null,
            "grid_auto_columns": null,
            "grid_auto_flow": null,
            "grid_auto_rows": null,
            "grid_column": null,
            "grid_gap": null,
            "grid_row": null,
            "grid_template_areas": null,
            "grid_template_columns": null,
            "grid_template_rows": null,
            "height": null,
            "justify_content": null,
            "justify_items": null,
            "left": null,
            "margin": null,
            "max_height": null,
            "max_width": null,
            "min_height": null,
            "min_width": null,
            "object_fit": null,
            "object_position": null,
            "order": null,
            "overflow": null,
            "overflow_x": null,
            "overflow_y": null,
            "padding": null,
            "right": null,
            "top": null,
            "visibility": null,
            "width": null
          }
        },
        "bc35de7d72f54561b3ea922be599c861": {
          "model_module": "@jupyter-widgets/controls",
          "model_name": "DescriptionStyleModel",
          "model_module_version": "1.5.0",
          "state": {
            "_model_module": "@jupyter-widgets/controls",
            "_model_module_version": "1.5.0",
            "_model_name": "DescriptionStyleModel",
            "_view_count": null,
            "_view_module": "@jupyter-widgets/base",
            "_view_module_version": "1.2.0",
            "_view_name": "StyleView",
            "description_width": ""
          }
        }
      }
    }
  },
  "cells": [
    {
      "cell_type": "markdown",
      "metadata": {
        "id": "view-in-github",
        "colab_type": "text"
      },
      "source": [
        "<a href=\"https://colab.research.google.com/github/solarslurpi/GrowBuddies/blob/main/growbuddiesproject/growbuddies/drgrowbuddy/drgrowbuddy_0.ipynb\" target=\"_parent\"><img src=\"https://colab.research.google.com/assets/colab-badge.svg\" alt=\"Open In Colab\"/></a>"
      ]
    },
    {
      "cell_type": "markdown",
      "source": [
        "# Download the Zip file containing the images we'll be using.\n",
        "\n",
        "The Plant Village Dataset\n",
        "After bumbling around the Internet, I found (the PlantVillage Dataset in Papers With Code)[https://paperswithcode.com/dataset/plantvillage]."
      ],
      "metadata": {
        "id": "6uScIzxeyX1H"
      }
    },
    {
      "cell_type": "code",
      "execution_count": null,
      "metadata": {
        "colab": {
          "base_uri": "https://localhost:8080/"
        },
        "id": "zvSpR8mEyIBd",
        "outputId": "0f8406e7-df66-4a1e-dbe1-ad78699ddd28"
      },
      "outputs": [
        {
          "output_type": "stream",
          "name": "stdout",
          "text": [
            "Drive already mounted at /gdrive; to attempt to forcibly remount, call drive.mount(\"/gdrive\", force_remount=True).\n",
            "The path /gdrive/MyDrive/Colab_datasets/Plant_leaf_diseases_dataset_without_augmentation.zip exists.\n",
            "Number of files in the zip file: 55488\n"
          ]
        }
      ],
      "source": [
        "# Get the zipfile containing the images into Colab\n",
        "from pathlib import Path\n",
        "import zipfile\n",
        "\n",
        "from google.colab import drive\n",
        "drive.mount('/gdrive')\n",
        "\n",
        "path = '/gdrive/MyDrive/Colab_datasets/Plant_leaf_diseases_dataset_without_augmentation.zip'\n",
        "\n",
        "if Path(path).exists():\n",
        "    print(f\"The path {path} exists.\")\n",
        "else:\n",
        "    print(f\"The path {path} does not exist.\")\n",
        "with zipfile.ZipFile(path, \"r\") as zip_ref:\n",
        "    num_files = len(zip_ref.namelist())\n",
        "    print(f\"Number of files in the zip file: {num_files}\")"
      ]
    },
    {
      "cell_type": "markdown",
      "source": [
        "# Visualize Image Distribution"
      ],
      "metadata": {
        "id": "DjOh5eQJzox1"
      }
    },
    {
      "cell_type": "code",
      "source": [
        "# Build a directory of directory_name: number of images\n",
        "from pathlib import Path\n",
        "import zipfile\n",
        "\n",
        "path = '/gdrive/MyDrive/Colab_datasets/Plant_leaf_diseases_dataset_without_augmentation.zip'\n",
        "\n",
        "dir_count = {}\n",
        "with zipfile.ZipFile(path, 'r') as zip_ref:\n",
        "    for file in zip_ref.namelist():\n",
        "        p = Path(file)\n",
        "        parent_dir = p.parent\n",
        "        subdir_name = parent_dir.name\n",
        "        # Check if the current subdir_name already exists as a key in the dir_count dictionary. \n",
        "        # If it does, increment the value associated with that key by 1. \n",
        "        # If it doesn't, it creates a new key-value pair in the dictionary\n",
        "        if subdir_name in dir_count:\n",
        "            dir_count[subdir_name] += 1\n",
        "        else:\n",
        "            dir_count[subdir_name] = 1\n",
        "\n",
        "print(dir_count)"
      ],
      "metadata": {
        "colab": {
          "base_uri": "https://localhost:8080/"
        },
        "id": "aQ8rVmj1zsKZ",
        "outputId": "f2b8425e-dbd6-4751-a7be-5c0beed6ed54"
      },
      "execution_count": null,
      "outputs": [
        {
          "output_type": "stream",
          "name": "stdout",
          "text": [
            "{'': 1, 'Plant_leave_diseases_dataset_without_augmentation': 39, 'Apple___Apple_scab': 630, 'Apple___Black_rot': 621, 'Apple___Cedar_apple_rust': 275, 'Apple___healthy': 1645, 'Background_without_leaves': 1143, 'Blueberry___healthy': 1502, 'Cherry___healthy': 854, 'Cherry___Powdery_mildew': 1052, 'Corn___Cercospora_leaf_spot Gray_leaf_spot': 513, 'Corn___Common_rust': 1192, 'Corn___healthy': 1162, 'Corn___Northern_Leaf_Blight': 985, 'Grape___Black_rot': 1180, 'Grape___Esca_(Black_Measles)': 1383, 'Grape___healthy': 423, 'Grape___Leaf_blight_(Isariopsis_Leaf_Spot)': 1076, 'Orange___Haunglongbing_(Citrus_greening)': 5507, 'Peach___Bacterial_spot': 2297, 'Peach___healthy': 360, 'Pepper,_bell___Bacterial_spot': 997, 'Pepper,_bell___healthy': 1478, 'Potato___Early_blight': 1000, 'Potato___healthy': 152, 'Potato___Late_blight': 1000, 'Raspberry___healthy': 371, 'Soybean___healthy': 5090, 'Squash___Powdery_mildew': 1835, 'Strawberry___healthy': 456, 'Strawberry___Leaf_scorch': 1109, 'Tomato___Bacterial_spot': 2127, 'Tomato___Early_blight': 1000, 'Tomato___healthy': 1591, 'Tomato___Late_blight': 1909, 'Tomato___Leaf_Mold': 952, 'Tomato___Septoria_leaf_spot': 1771, 'Tomato___Spider_mites Two-spotted_spider_mite': 1676, 'Tomato___Target_Spot': 1404, 'Tomato___Tomato_mosaic_virus': 373, 'Tomato___Tomato_Yellow_Leaf_Curl_Virus': 5357}\n"
          ]
        }
      ]
    },
    {
      "cell_type": "code",
      "source": [
        "import matplotlib.pyplot as plt\n",
        "sorted_keys = sorted(dir_count.keys())\n",
        "plt.figure(figsize=(20, 10))\n",
        "plt.bar(sorted_keys, [dir_count[key] for key in sorted_keys])\n",
        "plt.xticks(rotation=90)\n",
        "plt.xlabel('Subdirectories')\n",
        "plt.ylabel('Number of files')\n",
        "#\n",
        "plt.show()"
      ],
      "metadata": {
        "colab": {
          "base_uri": "https://localhost:8080/",
          "height": 862
        },
        "id": "ALHVecuzz7p2",
        "outputId": "4cc3c657-6a4f-4abf-b9cd-406a5b0bd83f"
      },
      "execution_count": null,
      "outputs": [
        {
          "output_type": "display_data",
          "data": {
            "text/plain": [
              "<Figure size 1440x720 with 1 Axes>"
            ],
            "image/png": "[encoded data removed]"
          },
          "metadata": {
            "needs_background": "light"
          }
        }
      ]
    },
    {
      "cell_type": "markdown",
      "source": [
        "# Copy Sample Image Files"
      ],
      "metadata": {
        "id": "PR9PZBk5y5Z_"
      }
    },
    {
      "cell_type": "code",
      "source": [
        "from pathlib import Path\n",
        "from zipfile import ZipFile\n",
        "import random\n",
        "\"\"\"\n",
        "The script uses the ZipFile module to open the zip file specified by the zip_filepath and iterates through the directories.\n",
        "For each directory name, it checks if the name contains a string from the dir_names list. \n",
        "If the directory includes one of the strings in dir_names, the script \n",
        "takes a random sample of 10 files from the directory and extracts them to the specified target directory.  The target directory will be identified as either \n",
        "healthy_target_dir or unhealthy_target_dir. The extracted files are also renamed to include the name of the plant species in the file name.\n",
        "\n",
        "The zip file should be specified at zip_filepath, and the target directories for the healthy and unhealthy images should \n",
        "be specified at healthy_target_dir and unhealthy_target_dir respectively. The dir_names variable contains a list of names \n",
        "of the plant species to be considered.\n",
        "\"\"\"\n",
        "\n",
        "\n",
        "# specify the zip file and the target directory\n",
        "def pull_out_images(nImages_per_directory):\n",
        "    zip_filepath = '/gdrive/MyDrive/Colab_datasets/Plant_leaf_diseases_dataset_without_augmentation.zip'\n",
        "    healthy_target_dir = '/content/drgrowbuddy/healthy/'\n",
        "    unhealthy_target_dir = '/content/drgrowbuddy/unhealthy/'\n",
        "    # Path.mkdir('/content/healthy')\n",
        "    dir_names = [\"Apple\",\"Grape\",\"Pepper,_bell\",\"Potato\",\"Raspberry\",\"Soybean\",\"Strawberry\"]\n",
        "    # open the zip file\n",
        "    with ZipFile(zip_filepath, 'r') as zip_ref:\n",
        "        # iterate through the directories within the zip file\n",
        "        for directory in (f for f in zip_ref.namelist() if f.endswith('/')):\n",
        "          # Check if the directory name contains both an entry from the dir_names list as well as the word \"healthy\"\n",
        "          if any(name in directory for name in dir_names):\n",
        "            files = zip_ref.namelist()\n",
        "            files = [file for file in files if directory in file]\n",
        "            # take a random sample of files from the directory.\n",
        "            files = random.sample(files,nImages_per_directory)\n",
        "            dir_path = Path(directory)\n",
        "            subdir_name = dir_path.parts[-1]\n",
        "            for name in dir_names:\n",
        "              if name in subdir_name:\n",
        "                  short_dir_name = name\n",
        "                  break\n",
        "\n",
        "            for file in files:\n",
        "                zip_info = zip_ref.getinfo(file)\n",
        "                zip_info.filename = zip_info.filename.replace(\"image\",short_dir_name)\n",
        "                zip_info.filename = Path(zip_info.filename).name\n",
        "                if \"healthy\" in directory:\n",
        "                  target_dir = healthy_target_dir\n",
        "                else:\n",
        "                  target_dir = unhealthy_target_dir\n",
        "                zip_ref.extract(zip_info, target_dir)\n",
        "\n",
        "\n",
        "pull_out_images(150)\n"
      ],
      "metadata": {
        "id": "QbaCq_8jzHx-"
      },
      "execution_count": null,
      "outputs": []
    },
    {
      "cell_type": "markdown",
      "source": [
        "# Show a Random Image"
      ],
      "metadata": {
        "id": "_LzSPrl00R5t"
      }
    },
    {
      "cell_type": "code",
      "source": [
        "from pathlib import Path\n",
        "import random\n",
        "from PIL import Image\n",
        "\n",
        "# setup\n",
        "healthy_dir = Path('/content/drgrowbuddy/healthy')\n",
        "unhealthy_dir = Path('/content/drgrowbuddy/unhealthy')\n",
        "# Get the list of filepaths\n",
        "images_list = list(healthy_dir.glob('*.JPG')) + list(unhealthy_dir.glob('*.JPG'))\n",
        "print(f\"There are a total of {len(images_list)} images.\")\n",
        "chosen_image_path = random.choice(images_list)\n",
        "file_name = chosen_image_path.parts[-1]\n",
        "dir_names = [\"Apple\",\"Grape\",\"Pepper,_bell\",\"Potato\",\"Raspberry\",\"Soybean\",\"Strawberry\"]\n",
        "fruit_name = [name for name in dir_names if name in file_name][0]\n",
        "image = Image.open(chosen_image_path)\n",
        "class_name = chosen_image_path.parent.stem\n",
        "print(\"-------------------------\")\n",
        "# dir_names = [\"Apple\",\"Grape\",\"Pepper,_bell\",\"Potato\",\"Raspberry\",\"Soybean\",\"Strawberry\"]\n",
        "#  # Can use matplotlib to show or just show by typing image on a line, e.g.: plt.imshow(image)\n",
        "print(\"Image path: \", chosen_image_path)\n",
        "print(\"Fruit name: \", fruit_name)\n",
        "print(\"Class:      \", class_name)\n",
        "print(\"Image size: \", image.size)\n",
        "print(\"Image mode: \", image.mode)\n",
        "image"
      ],
      "metadata": {
        "colab": {
          "base_uri": "https://localhost:8080/",
          "height": 401
        },
        "id": "oOPqqrdI0W_m",
        "outputId": "0f7b4635-a1d7-472e-f54c-f706f273fa16"
      },
      "execution_count": null,
      "outputs": [
        {
          "output_type": "stream",
          "name": "stdout",
          "text": [
            "There are a total of 3465 images.\n",
            "-------------------------\n",
            "Image path:  /content/drgrowbuddy/unhealthy/Apple (442).JPG\n",
            "Fruit name:  Apple\n",
            "Class:       unhealthy\n",
            "Image size:  (256, 256)\n",
            "Image mode:  RGB\n"
          ]
        },
        {
          "output_type": "execute_result",
          "data": {
            "text/plain": [
              "<PIL.JpegImagePlugin.JpegImageFile image mode=RGB size=256x256 at 0x7F0A12A479A0>"
            ],
            "image/png": "[encoded data removed]"
          },
          "metadata": {},
          "execution_count": 37
        }
      ]
    },
    {
      "cell_type": "markdown",
      "source": [
        "# Build A DataSet and DataLoader"
      ],
      "metadata": {
        "id": "mMFyJydhzR-H"
      }
    },
    {
      "cell_type": "markdown",
      "source": [
        "## Define the Transform Function"
      ],
      "metadata": {
        "id": "IIacN28SzWuk"
      }
    },
    {
      "cell_type": "code",
      "source": [
        "import torch\n",
        "from torch.utils.data import DataLoader\n",
        "from torchvision import datasets, transforms\n",
        "# Write the transform for an image.\n",
        "data_transform = transforms.Compose([\n",
        "    # Resize the images to 64x64\n",
        "    transforms.Resize(size=(64,64)),\n",
        "    # Turn the image into a torch.Tensor\n",
        "    transforms.ToTensor() # this also converts all pixel values from 0 to 255 to be between 0.0 and 1.0 \n",
        "])"
      ],
      "metadata": {
        "id": "N3fgIeHS0hPR"
      },
      "execution_count": null,
      "outputs": []
    },
    {
      "cell_type": "markdown",
      "source": [
        "## Build the Train and Test DataSets"
      ],
      "metadata": {
        "id": "HQBy7TCe0yCe"
      }
    },
    {
      "cell_type": "code",
      "source": [
        "\n",
        "# Use imagefolder to create the PyTorch dataset (TorchVision)\n",
        "from torchvision import datasets\n",
        "# Get all samples\n",
        "image_dataset = datasets.ImageFolder(root='/content/drgrowbuddy', transform = data_transform, target_transform=None)\n",
        "# Create Train and Test Tensors.\n",
        "from torch.utils.data import random_split\n",
        "\n",
        "# Assume your dataset is called \"my_dataset\"\n",
        "train_ratio = 0.8\n",
        "train_size = int(train_ratio * len(image_dataset))\n",
        "test_size = len(image_dataset) - train_size\n",
        "# random_split returns torch.utils.data.dataset.Subset instances.\n",
        "train_subset, test_subset = random_split(image_dataset, [train_size, test_size])\n",
        "print(f\"The image_dataset: {train_subset.dataset}\")\n",
        "print(f\"The train subset contains {len(train_subset)} images.  The test subset contains {len(test_subset)}\")"
      ],
      "metadata": {
        "colab": {
          "base_uri": "https://localhost:8080/"
        },
        "id": "DzNCUyS4023v",
        "outputId": "dc1cff00-db05-4ab3-d34f-3b87d7ab3969"
      },
      "execution_count": null,
      "outputs": [
        {
          "output_type": "stream",
          "name": "stdout",
          "text": [
            "The image_dataset: Dataset ImageFolder\n",
            "    Number of datapoints: 3465\n",
            "    Root location: /content/drgrowbuddy\n",
            "    StandardTransform\n",
            "Transform: Compose(\n",
            "               Resize(size=(64, 64), interpolation=bilinear, max_size=None, antialias=None)\n",
            "               ToTensor()\n",
            "           )\n",
            "The train subset contains 2772 images.  The test subset contains 693\n"
          ]
        }
      ]
    },
    {
      "cell_type": "code",
      "source": [
        "train_subset.dataset.classes"
      ],
      "metadata": {
        "colab": {
          "base_uri": "https://localhost:8080/"
        },
        "id": "Cz6Q1Rrr6olH",
        "outputId": "34cfde82-e3b5-4fb9-a2e9-93e73afc9522"
      },
      "execution_count": null,
      "outputs": [
        {
          "output_type": "execute_result",
          "data": {
            "text/plain": [
              "['healthy', 'unhealthy']"
            ]
          },
          "metadata": {},
          "execution_count": 40
        }
      ]
    },
    {
      "cell_type": "markdown",
      "source": [
        "## Make the DataLoaders"
      ],
      "metadata": {
        "id": "SJXy2_ZL1BSV"
      }
    },
    {
      "cell_type": "code",
      "source": [
        "import os\n",
        "# Turn train and test datasets into DataLoaders\n",
        "from torch.utils.data import DataLoader\n",
        "def make_dataloaders(batch_size=1):\n",
        "    NUM_WORKERS = os.cpu_count()\n",
        "    print(f\"--> in make_dataloaders.  Batch size is {batch_size}\")\n",
        "    train_dataloader = DataLoader(dataset=train_subset, \n",
        "                                  batch_size=batch_size,\n",
        "                                  shuffle=True,\n",
        "                                  num_workers=NUM_WORKERS)\n",
        "\n",
        "    test_dataloader = DataLoader(dataset=test_subset,\n",
        "                                batch_size=batch_size,\n",
        "                                shuffle=False)\n",
        "    return(train_dataloader, test_dataloader)\n",
        "\n",
        "train_dataloader, test_dataloader = make_dataloaders(32)"
      ],
      "metadata": {
        "colab": {
          "base_uri": "https://localhost:8080/"
        },
        "id": "iRh53ZqM1KE1",
        "outputId": "573e25a9-432d-47d3-8f98-9dfc7b5dfc40"
      },
      "execution_count": null,
      "outputs": [
        {
          "output_type": "stream",
          "name": "stdout",
          "text": [
            "--> in make_dataloaders.  Batch size is 32\n"
          ]
        }
      ]
    },
    {
      "cell_type": "markdown",
      "source": [
        "# Build Model"
      ],
      "metadata": {
        "id": "GxuudfN32A1F"
      }
    },
    {
      "cell_type": "markdown",
      "source": [
        "## Use GPU\n",
        "For Math intensive cells, best to use the GPU."
      ],
      "metadata": {
        "id": "mU3-P2U83Auw"
      }
    },
    {
      "cell_type": "code",
      "source": [
        "# Setup device agnostic code\n",
        "import torch\n",
        "device = \"cuda\" if torch.cuda.is_available() else \"cpu\"\n",
        "device"
      ],
      "metadata": {
        "colab": {
          "base_uri": "https://localhost:8080/",
          "height": 37
        },
        "id": "UqQxQEDB3JU9",
        "outputId": "be197cfb-259f-4ee2-a63f-3c98c9158b8a"
      },
      "execution_count": null,
      "outputs": [
        {
          "output_type": "execute_result",
          "data": {
            "text/plain": [
              "'cuda'"
            ],
            "application/vnd.google.colaboratory.intrinsic+json": {
              "type": "string"
            }
          },
          "metadata": {},
          "execution_count": 50
        }
      ]
    },
    {
      "cell_type": "markdown",
      "source": [
        "If device returned 'cpu', use GPU by going to the menu items: Runtime -> Change runtime type -> Hardware accelerator -> GPU. If you do this, your runtime will likely reset and you'll have to run all of the cells above by going Runtime -> Run before."
      ],
      "metadata": {
        "id": "6RWhGdzK3mXA"
      }
    },
    {
      "cell_type": "code",
      "source": [
        "from torch import nn\n",
        "class TinyVGG(nn.Module):\n",
        "    \"\"\"\n",
        "    Model architecture copying TinyVGG from: \n",
        "    https://poloclub.github.io/cnn-explainer/\n",
        "    \"\"\"\n",
        "    def __init__(self, input_shape: int, hidden_units: int, output_shape: int) -> None:\n",
        "        super().__init__()\n",
        "        self.conv_block_1 = nn.Sequential(\n",
        "            nn.Conv2d(in_channels=input_shape, \n",
        "                      out_channels=hidden_units, \n",
        "                      kernel_size=3, # how big is the square that's going over the image?\n",
        "                      stride=1, # default\n",
        "                      padding=1), # options = \"valid\" (no padding) or \"same\" (output has same shape as input) or int for specific number \n",
        "            nn.ReLU(),\n",
        "            nn.Conv2d(in_channels=hidden_units, \n",
        "                      out_channels=hidden_units,\n",
        "                      kernel_size=3,\n",
        "                      stride=1,\n",
        "                      padding=1),\n",
        "            nn.ReLU(),\n",
        "            nn.MaxPool2d(kernel_size=2,\n",
        "                         stride=2) # default stride value is same as kernel_size\n",
        "        )\n",
        "        self.conv_block_2 = nn.Sequential(\n",
        "            nn.Conv2d(hidden_units, hidden_units, kernel_size=3, padding=1),\n",
        "            nn.ReLU(),\n",
        "            nn.Conv2d(hidden_units, hidden_units, kernel_size=3, padding=1),\n",
        "            nn.ReLU(),\n",
        "            nn.MaxPool2d(2)\n",
        "        )\n",
        "        self.classifier = nn.Sequential(\n",
        "            nn.Flatten(),\n",
        "            # Where did this in_features shape come from? \n",
        "            # It's because each layer of our network compresses and changes the shape of our inputs data.\n",
        "            nn.Linear(in_features=hidden_units*16*16,\n",
        "                      out_features=output_shape)\n",
        "        )\n",
        "    \n",
        "    def forward(self, x: torch.Tensor):\n",
        "        x = self.conv_block_1(x)\n",
        "        #print(x.shape)\n",
        "        x = self.conv_block_2(x)\n",
        "        #print(x.shape)\n",
        "        x = self.classifier(x)\n",
        "        #print(x.shape)\n",
        "        return x\n",
        "        # return self.classifier(self.conv_block_2(self.conv_block_1(x))) # <- leverage the benefits of operator fusion\n",
        "\n",
        "torch.manual_seed(42)\n",
        "model_0 = TinyVGG(input_shape=3, # number of color channels (3 for RGB) \n",
        "                  hidden_units=10, \n",
        "                  output_shape=len(train_subset.dataset.classes)).to(device)\n",
        "model_0"
      ],
      "metadata": {
        "colab": {
          "base_uri": "https://localhost:8080/"
        },
        "id": "-ulkbIhx2Nve",
        "outputId": "30062780-d137-451c-972e-c403c9976954"
      },
      "execution_count": null,
      "outputs": [
        {
          "output_type": "execute_result",
          "data": {
            "text/plain": [
              "TinyVGG(\n",
              "  (conv_block_1): Sequential(\n",
              "    (0): Conv2d(3, 10, kernel_size=(3, 3), stride=(1, 1), padding=(1, 1))\n",
              "    (1): ReLU()\n",
              "    (2): Conv2d(10, 10, kernel_size=(3, 3), stride=(1, 1), padding=(1, 1))\n",
              "    (3): ReLU()\n",
              "    (4): MaxPool2d(kernel_size=2, stride=2, padding=0, dilation=1, ceil_mode=False)\n",
              "  )\n",
              "  (conv_block_2): Sequential(\n",
              "    (0): Conv2d(10, 10, kernel_size=(3, 3), stride=(1, 1), padding=(1, 1))\n",
              "    (1): ReLU()\n",
              "    (2): Conv2d(10, 10, kernel_size=(3, 3), stride=(1, 1), padding=(1, 1))\n",
              "    (3): ReLU()\n",
              "    (4): MaxPool2d(kernel_size=2, stride=2, padding=0, dilation=1, ceil_mode=False)\n",
              "  )\n",
              "  (classifier): Sequential(\n",
              "    (0): Flatten(start_dim=1, end_dim=-1)\n",
              "    (1): Linear(in_features=2560, out_features=2, bias=True)\n",
              "  )\n",
              ")"
            ]
          },
          "metadata": {},
          "execution_count": 43
        }
      ]
    },
    {
      "cell_type": "code",
      "source": [
        "type(model_0)\n"
      ],
      "metadata": {
        "id": "xMW7GkMTEzVk",
        "outputId": "b42f16d8-3f9e-4d2e-f944-ed5df92bc797",
        "colab": {
          "base_uri": "https://localhost:8080/"
        }
      },
      "execution_count": null,
      "outputs": [
        {
          "output_type": "execute_result",
          "data": {
            "text/plain": [
              "__main__.TinyVGG"
            ]
          },
          "metadata": {},
          "execution_count": 22
        }
      ]
    },
    {
      "cell_type": "markdown",
      "source": [
        "# Train and Test\n",
        "see [Learn PyTorch](https://youtu.be/Z_ikDlimN6A?t=83011)\n",
        "Try a forward pass on a single image."
      ],
      "metadata": {
        "id": "6U9Xln2L9wiD"
      }
    },
    {
      "cell_type": "code",
      "source": [
        "image_batch, label_batch = next(iter(train_dataloader))\n",
        "image_batch.shape, label_batch.shape"
      ],
      "metadata": {
        "id": "miiNA8cW_j7X",
        "outputId": "43613bcd-500b-4536-ea7b-edf78039fed8",
        "colab": {
          "base_uri": "https://localhost:8080/"
        }
      },
      "execution_count": null,
      "outputs": [
        {
          "output_type": "execute_result",
          "data": {
            "text/plain": [
              "(torch.Size([32, 3, 64, 64]), torch.Size([32]))"
            ]
          },
          "metadata": {},
          "execution_count": 14
        }
      ]
    },
    {
      "cell_type": "markdown",
      "source": [
        "## Step 1: Set the input shape of the Classifier\n",
        "After running the below, we'll get an error if\n",
        "```\n",
        "nn.Linear(in_features=hidden_units,\n",
        "          out_features=output_shape)\n",
        "```\n",
        "in_features is left at hidden_units (which is 10).  \n",
        "```\n",
        "torch.Size([32, 10, 32, 32])\n",
        "torch.Size([32, 10, 16, 16])\n",
        "---------------------------------------------------------------------------\n",
        "RuntimeError: mat1 and mat2 shapes cannot be multiplied (32x2560 and 10x2)\n",
        "```\n",
        "So we know the shape needs to be 2560 which is 10 x 16 x 16.  So change nn.Linear() to:\n",
        "```\n",
        "nn.Linear(in_features=hidden_units*16*16,\n",
        "          out_features=output_shape)\n",
        "```\n"
      ],
      "metadata": {
        "id": "D0sAksS2BgUr"
      }
    },
    {
      "cell_type": "code",
      "source": [
        "# Try a forward pass\n",
        "model_0(image_batch.to(device))"
      ],
      "metadata": {
        "id": "yCPYDkr8AWhE",
        "outputId": "731eef6d-2c7d-40d9-fb23-b1bf0b0b7a35",
        "colab": {
          "base_uri": "https://localhost:8080/"
        }
      },
      "execution_count": null,
      "outputs": [
        {
          "output_type": "stream",
          "name": "stdout",
          "text": [
            "torch.Size([32, 10, 32, 32])\n",
            "torch.Size([32, 10, 16, 16])\n",
            "torch.Size([32, 2])\n"
          ]
        },
        {
          "output_type": "execute_result",
          "data": {
            "text/plain": [
              "tensor([[0.0537, 0.0565],\n",
              "        [0.0528, 0.0551],\n",
              "        [0.0515, 0.0555],\n",
              "        [0.0524, 0.0551],\n",
              "        [0.0506, 0.0541],\n",
              "        [0.0509, 0.0533],\n",
              "        [0.0507, 0.0553],\n",
              "        [0.0510, 0.0564],\n",
              "        [0.0503, 0.0542],\n",
              "        [0.0536, 0.0579],\n",
              "        [0.0548, 0.0549],\n",
              "        [0.0523, 0.0554],\n",
              "        [0.0541, 0.0566],\n",
              "        [0.0516, 0.0553],\n",
              "        [0.0521, 0.0552],\n",
              "        [0.0524, 0.0566],\n",
              "        [0.0515, 0.0554],\n",
              "        [0.0502, 0.0557],\n",
              "        [0.0531, 0.0538],\n",
              "        [0.0536, 0.0571],\n",
              "        [0.0497, 0.0526],\n",
              "        [0.0536, 0.0586],\n",
              "        [0.0497, 0.0543],\n",
              "        [0.0524, 0.0557],\n",
              "        [0.0503, 0.0544],\n",
              "        [0.0508, 0.0542],\n",
              "        [0.0540, 0.0538],\n",
              "        [0.0539, 0.0536],\n",
              "        [0.0510, 0.0543],\n",
              "        [0.0507, 0.0541],\n",
              "        [0.0543, 0.0559],\n",
              "        [0.0537, 0.0571]], device='cuda:0', grad_fn=<AddmmBackward0>)"
            ]
          },
          "metadata": {},
          "execution_count": 15
        }
      ]
    },
    {
      "cell_type": "code",
      "source": [
        "# Setup loss and optimizer\n",
        "# The cross-entropy loss measures the difference between the predicted probabilities and the true class probabilities.\n",
        "# It is a common loss function used with classification models.\n",
        "loss_fn = nn.CrossEntropyLoss()\n",
        "optimizer = torch.optim.SGD(params=model_0.parameters(), \n",
        "                             lr=0.1)"
      ],
      "metadata": {
        "id": "NyC1Y8yDEhhE"
      },
      "execution_count": null,
      "outputs": []
    },
    {
      "cell_type": "code",
      "source": [
        "def train_step(model: torch.nn.Module,\n",
        "               data_loader: torch.utils.data.DataLoader,\n",
        "               loss_fn: torch.nn.Module,\n",
        "               optimizer: torch.optim.Optimizer,\n",
        "               accuracy_fn,\n",
        "               device: torch.device = device):\n",
        "    train_loss, train_acc = 0, 0\n",
        "    for batch, (X, y) in enumerate(data_loader):\n",
        "        # Send data to GPU\n",
        "        X, y = X.to(device), y.to(device)\n",
        "\n",
        "        # 1. Forward pass\n",
        "        y_pred = model(X)\n",
        "\n",
        "        # 2. Calculate loss\n",
        "        loss = loss_fn(y_pred, y)\n",
        "        train_loss += loss\n",
        "        train_acc += accuracy_fn(y_true=y,\n",
        "                                 y_pred=y_pred.argmax(dim=1)) # Go from logits -> pred labels\n",
        "\n",
        "        # 3. Optimizer zero grad\n",
        "        optimizer.zero_grad()\n",
        "\n",
        "        # 4. Loss backward\n",
        "        loss.backward()\n",
        "\n",
        "        # 5. Optimizer step\n",
        "        optimizer.step()\n",
        "\n",
        "    # Calculate loss and accuracy per epoch and print out what's happening\n",
        "    train_loss /= len(data_loader)\n",
        "    train_acc /= len(data_loader)\n",
        "    print(f\"Train loss: {train_loss:.5f} | Train accuracy: {train_acc:.2f}%\")\n",
        "\n",
        "def test_step(data_loader: torch.utils.data.DataLoader,\n",
        "              model: torch.nn.Module,\n",
        "              loss_fn: torch.nn.Module,\n",
        "              accuracy_fn,\n",
        "              device: torch.device = device):\n",
        "    test_loss, test_acc = 0, 0\n",
        "    model.eval() # put model in eval mode\n",
        "    # Turn on inference context manager\n",
        "    with torch.inference_mode(): \n",
        "        for X, y in data_loader:\n",
        "            # Send data to GPU\n",
        "            X, y = X.to(device), y.to(device)\n",
        "            \n",
        "            # 1. Forward pass\n",
        "            test_pred = model(X)\n",
        "            \n",
        "            # 2. Calculate loss and accuracy\n",
        "            test_loss += loss_fn(test_pred, y)\n",
        "            test_acc += accuracy_fn(y_true=y,\n",
        "                y_pred=test_pred.argmax(dim=1) # Go from logits -> pred labels\n",
        "            )\n",
        "        \n",
        "        # Adjust metrics and print out\n",
        "        test_loss /= len(data_loader)\n",
        "        test_acc /= len(data_loader)\n",
        "        print(f\"Test loss: {test_loss:.5f} | Test accuracy: {test_acc:.2f}%\\n\")"
      ],
      "metadata": {
        "id": "QEksPzkBK5N9"
      },
      "execution_count": null,
      "outputs": []
    },
    {
      "cell_type": "code",
      "source": [
        "import requests\n",
        "from pathlib import Path \n",
        "\n",
        "# Download helper functions from Learn PyTorch repo (if not already downloaded)\n",
        "if Path(\"helper_functions.py\").is_file():\n",
        "  print(\"helper_functions.py already exists, skipping download\")\n",
        "else:\n",
        "  print(\"Downloading helper_functions.py\")\n",
        "  request = requests.get(\"https://raw.githubusercontent.com/mrdbourke/pytorch-deep-learning/main/helper_functions.py\")\n",
        "  with open(\"helper_functions.py\", \"wb\") as f:\n",
        "    f.write(request.content)"
      ],
      "metadata": {
        "id": "a5RPp-hULly9",
        "outputId": "598e2bb3-61e5-4e01-9053-79177601476f",
        "colab": {
          "base_uri": "https://localhost:8080/"
        }
      },
      "execution_count": null,
      "outputs": [
        {
          "output_type": "stream",
          "name": "stdout",
          "text": [
            "helper_functions.py already exists, skipping download\n"
          ]
        }
      ]
    },
    {
      "cell_type": "markdown",
      "source": [
        "## Train and Test"
      ],
      "metadata": {
        "id": "XPs3ar5_PuxT"
      }
    },
    {
      "cell_type": "code",
      "source": [
        "# Import tqdm for progress bar\n",
        "from tqdm.auto import tqdm\n",
        "from timeit import default_timer as timer\n",
        "from helper_functions import accuracy_fn, set_seeds, print_train_time\n",
        "# Make experiments reproducable\n",
        "set_seeds()\n",
        "# Measure the amount of time to train and test.\n",
        "train_test_time_start_model_0 = timer()\n",
        "# Train and test model\n",
        "epochs = 30\n",
        "for epoch in tqdm(range(epochs)):\n",
        "  train_step(model=model_0,\n",
        "             data_loader=train_dataloader,\n",
        "             loss_fn=loss_fn,\n",
        "             optimizer=optimizer,\n",
        "             accuracy_fn=accuracy_fn,\n",
        "             device=device)  \n",
        "  \n",
        "  test_step(model=model_0,\n",
        "             data_loader=test_dataloader,\n",
        "             loss_fn=loss_fn,\n",
        "             accuracy_fn=accuracy_fn,\n",
        "             device=device)\n",
        "  \n",
        "train_test_time_end_model_0 = timer()\n",
        "total_train_test_time_model_0 = print_train_time(start=train_test_time_start_model_0, \n",
        "                                           end=train_test_time_end_model_0 ,\n",
        "                                           device=str(next(model_0.parameters()).device))"
      ],
      "metadata": {
        "id": "UzV64WPOGyFA",
        "outputId": "ceb6cd5a-b69b-4e7b-d1a5-87229adbf4be",
        "colab": {
          "base_uri": "https://localhost:8080/",
          "height": 1000,
          "referenced_widgets": [
            "583ee658dd514a61a244728d0e7a81e9",
            "5de0b11b14cf43ba94114c274d699c41",
            "e91a6489f5614be2834e0322499fdcf1",
            "90dad2cdad5347fe947fcaa2c20fe7cd",
            "511b481c0dff45aaa4e6024d4230b127",
            "59f8293dacf44626bdf0cd0935a0c4e6",
            "6bfe9529e2634a889e525c129f1e3773",
            "18352d0924e84976bd1b17be534fcf7e",
            "d06c54fe2cba4772b181730c408bbf68",
            "b2088cd01b824c69a08ec70a06d3b147",
            "bc35de7d72f54561b3ea922be599c861"
          ]
        }
      },
      "execution_count": null,
      "outputs": [
        {
          "output_type": "display_data",
          "data": {
            "text/plain": [
              "  0%|          | 0/30 [00:00<?, ?it/s]"
            ],
            "application/vnd.jupyter.widget-view+json": {
              "version_major": 2,
              "version_minor": 0,
              "model_id": "583ee658dd514a61a244728d0e7a81e9"
            }
          },
          "metadata": {}
        },
        {
          "output_type": "stream",
          "name": "stdout",
          "text": [
            "Train loss: 0.68539 | Train accuracy: 55.67%\n",
            "Test loss: 0.67575 | Test accuracy: 55.30%\n",
            "\n",
            "Train loss: 0.67575 | Train accuracy: 57.69%\n",
            "Test loss: 0.68702 | Test accuracy: 55.30%\n",
            "\n",
            "Train loss: 0.68319 | Train accuracy: 56.06%\n",
            "Test loss: 0.68497 | Test accuracy: 55.30%\n",
            "\n",
            "Train loss: 0.65431 | Train accuracy: 60.24%\n",
            "Test loss: 0.55999 | Test accuracy: 72.42%\n",
            "\n",
            "Train loss: 0.66485 | Train accuracy: 60.09%\n",
            "Test loss: 0.56706 | Test accuracy: 69.72%\n",
            "\n",
            "Train loss: 0.62806 | Train accuracy: 64.12%\n",
            "Test loss: 0.54685 | Test accuracy: 68.44%\n",
            "\n",
            "Train loss: 0.66629 | Train accuracy: 59.02%\n",
            "Test loss: 0.68743 | Test accuracy: 55.30%\n",
            "\n",
            "Train loss: 0.68731 | Train accuracy: 56.21%\n",
            "Test loss: 0.68788 | Test accuracy: 55.30%\n",
            "\n",
            "Train loss: 0.68601 | Train accuracy: 56.13%\n",
            "Test loss: 0.68754 | Test accuracy: 55.30%\n",
            "\n",
            "Train loss: 0.68619 | Train accuracy: 56.17%\n",
            "Test loss: 0.68756 | Test accuracy: 55.30%\n",
            "\n",
            "Train loss: 0.68586 | Train accuracy: 56.17%\n",
            "Test loss: 0.68926 | Test accuracy: 55.30%\n",
            "\n",
            "Train loss: 0.68658 | Train accuracy: 56.06%\n",
            "Test loss: 0.68757 | Test accuracy: 55.30%\n",
            "\n",
            "Train loss: 0.68620 | Train accuracy: 56.13%\n",
            "Test loss: 0.68755 | Test accuracy: 55.30%\n",
            "\n",
            "Train loss: 0.68644 | Train accuracy: 56.06%\n",
            "Test loss: 0.68769 | Test accuracy: 55.30%\n",
            "\n",
            "Train loss: 0.68586 | Train accuracy: 56.21%\n",
            "Test loss: 0.68935 | Test accuracy: 55.30%\n",
            "\n",
            "Train loss: 0.68600 | Train accuracy: 56.15%\n",
            "Test loss: 0.68754 | Test accuracy: 55.30%\n",
            "\n",
            "Train loss: 0.68630 | Train accuracy: 56.08%\n",
            "Test loss: 0.68770 | Test accuracy: 55.30%\n",
            "\n",
            "Train loss: 0.68586 | Train accuracy: 56.08%\n",
            "Test loss: 0.68935 | Test accuracy: 55.30%\n",
            "\n",
            "Train loss: 0.68625 | Train accuracy: 56.11%\n",
            "Test loss: 0.68764 | Test accuracy: 55.30%\n",
            "\n",
            "Train loss: 0.68626 | Train accuracy: 56.11%\n",
            "Test loss: 0.68793 | Test accuracy: 55.30%\n",
            "\n",
            "Train loss: 0.68567 | Train accuracy: 56.13%\n",
            "Test loss: 0.68769 | Test accuracy: 55.30%\n",
            "\n",
            "Train loss: 0.68646 | Train accuracy: 56.06%\n",
            "Test loss: 0.68763 | Test accuracy: 55.30%\n",
            "\n",
            "Train loss: 0.68569 | Train accuracy: 56.13%\n",
            "Test loss: 0.68687 | Test accuracy: 55.30%\n",
            "\n",
            "Train loss: 0.63483 | Train accuracy: 62.73%\n",
            "Test loss: 0.72077 | Test accuracy: 55.30%\n",
            "\n",
            "Train loss: 0.66832 | Train accuracy: 61.26%\n",
            "Test loss: 0.69163 | Test accuracy: 55.30%\n",
            "\n",
            "Train loss: 0.68570 | Train accuracy: 55.98%\n",
            "Test loss: 0.69029 | Test accuracy: 55.30%\n",
            "\n",
            "Train loss: 0.68593 | Train accuracy: 56.08%\n",
            "Test loss: 0.68780 | Test accuracy: 55.30%\n",
            "\n",
            "Train loss: 0.68620 | Train accuracy: 56.08%\n",
            "Test loss: 0.68771 | Test accuracy: 55.30%\n",
            "\n",
            "Train loss: 0.68632 | Train accuracy: 56.11%\n",
            "Test loss: 0.68757 | Test accuracy: 55.30%\n",
            "\n",
            "Train loss: 0.68622 | Train accuracy: 56.13%\n",
            "Test loss: 0.68752 | Test accuracy: 55.30%\n",
            "\n",
            "\n",
            "Train time on cuda:0: 189.996 seconds\n"
          ]
        }
      ]
    },
    {
      "cell_type": "markdown",
      "source": [
        " takes in a trained model, a DataLoader, a loss function and an accuracy function.\n",
        "\n",
        "The function will use the model to make predictions on the data in the DataLoader and then we can evaluate those predictions using the loss function and accuracy function."
      ],
      "metadata": {
        "id": "EXhqBnTecLLK"
      }
    },
    {
      "cell_type": "code",
      "source": [
        "torch.manual_seed(42)\n",
        "def eval_model(model: torch.nn.Module, \n",
        "               data_loader: torch.utils.data.DataLoader, \n",
        "               loss_fn: torch.nn.Module, \n",
        "               accuracy_fn):\n",
        "    \"\"\"Returns a dictionary containing the results of model predicting on data_loader.\n",
        "\n",
        "    Args:\n",
        "        model (torch.nn.Module): A PyTorch model capable of making predictions on data_loader.\n",
        "        data_loader (torch.utils.data.DataLoader): The target dataset to predict on.\n",
        "        loss_fn (torch.nn.Module): The loss function of model.\n",
        "        accuracy_fn: An accuracy function to compare the models predictions to the truth labels.\n",
        "\n",
        "    Returns:\n",
        "        (dict): Results of model making predictions on data_loader.\n",
        "    \"\"\"\n",
        "    loss, acc = 0, 0\n",
        "    model.eval()\n",
        "    with torch.inference_mode():\n",
        "        for X, y in data_loader:\n",
        "            # Make predictions with the model\n",
        "            y_pred = model(X.to(device))\n",
        "            \n",
        "            # Accumulate the loss and accuracy values per batch\n",
        "            loss += loss_fn(y_pred, y.to(device))\n",
        "            acc += accuracy_fn(y_true=y.to(device), \n",
        "                                y_pred=y_pred.argmax(dim=1)) # For accuracy, need the prediction labels (logits -> pred_prob -> pred_labels)\n",
        "        \n",
        "        # Scale loss and acc to find the average loss/acc per batch\n",
        "        loss /= len(data_loader)\n",
        "        acc /= len(data_loader)\n",
        "        \n",
        "    return {\"model_name\": model.__class__.__name__, # only works when model was created with a class\n",
        "            \"model_loss\": loss.item(),\n",
        "            \"model_acc\": acc}\n",
        "\n",
        "# Calculate model 0 results on test dataset\n",
        "model_0_results = eval_model(model=model_0, data_loader=test_dataloader,\n",
        "    loss_fn=loss_fn, accuracy_fn=accuracy_fn\n",
        ")\n",
        "model_0_results"
      ],
      "metadata": {
        "id": "zFWTBNJYRrGb",
        "outputId": "e471472c-5fa7-40a7-ffb5-82975a6dbbe6",
        "colab": {
          "base_uri": "https://localhost:8080/"
        }
      },
      "execution_count": null,
      "outputs": [
        {
          "output_type": "execute_result",
          "data": {
            "text/plain": [
              "{'model_name': 'TinyVGG',\n",
              " 'model_loss': 0.6875192523002625,\n",
              " 'model_acc': 55.303030303030305}"
            ]
          },
          "metadata": {},
          "execution_count": 60
        }
      ]
    },
    {
      "cell_type": "markdown",
      "source": [
        "# Results of the first model\n",
        "The results are not good.  The accuracy is not much better than a random flip of the coin.  And this is after I added more images.  Makes me think that the shape matters alot.  And since I am pulling from many different types of plants, and not even the one I'm interested in - that this is not a good way to proceed.  Will gather my own data."
      ],
      "metadata": {
        "id": "6_shKIZXcxLr"
      }
    },
    {
      "cell_type": "markdown",
      "source": [
        "## "
      ],
      "metadata": {
        "id": "3klq04FFBU0J"
      }
    },
    {
      "cell_type": "markdown",
      "source": [
        "This might happen:   \n",
        "```\n",
        "RuntimeError: Input type (torch.FloatTensor) and weight type (torch.cuda.FloatTensor) should be the same or input should be a MKLDNN tensor and weight is a dense tensor\n",
        "```\n",
        "Recall we pinned model_0 to the GPU:\n",
        "```\n",
        "model_0 = TinyVGG(input_shape=3, # number of color channels (3 for RGB) \n",
        "                  hidden_units=10, \n",
        "                  output_shape=len(train_subset.dataset.classes)).to(device)\n",
        "```\n",
        "so we need to run the model on the GPU.\n",
        "```\n",
        "model_0(image_batch).to(device)\n",
        "```\n"
      ],
      "metadata": {
        "id": "jdjNzmM8AiVi"
      }
    }
  ]
}