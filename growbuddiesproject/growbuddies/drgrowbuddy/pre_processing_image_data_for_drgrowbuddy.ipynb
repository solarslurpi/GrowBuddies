{
  "nbformat": 4,
  "nbformat_minor": 0,
  "metadata": {
    "colab": {
      "provenance": [],
      "authorship_tag": "ABX9TyNGPio6gia5qJrZDyUctP2m",
      "include_colab_link": true
    },
    "kernelspec": {
      "name": "python3",
      "display_name": "Python 3"
    },
    "language_info": {
      "name": "python"
    }
  },
  "cells": [
    {
      "cell_type": "markdown",
      "metadata": {
        "id": "view-in-github",
        "colab_type": "text"
      },
      "source": [
        "<a href=\"https://colab.research.google.com/github/solarslurpi/GrowBuddies/blob/main/growbuddiesproject/growbuddies/drgrowbuddy/pre_processing_image_data_for_drgrowbuddy.ipynb\" target=\"_parent\"><img src=\"https://colab.research.google.com/assets/colab-badge.svg\" alt=\"Open In Colab\"/></a>"
      ]
    },
    {
      "cell_type": "markdown",
      "source": [
        "[zipfile library documentation](https://docs.python.org/3/library/zipfile.html)\n",
        "# Goals\n",
        "The goals of this notebook:\n",
        "- Identify a subset of images from the  [the PlantVillage Dataset in Papers With Code](https://paperswithcode.com/dataset/plantvillage). The subset of images is to include 1000 images of healthy plant leaves and 1000 images of unhealthy plant leaves.\n",
        "- Download the subset of data to use.\n",
        "- Load the dataset into a PyTorch dataloader.\n",
        "- Determine the datasets to be used for our first Deep Learning model.  The task is for the model to predict whether a leaf is healthy or not healthy.  I'm starting here as a way to constrain the full space down to a very small - hence easier to understand - subset of the data.\n",
        "- Gain skills in the pre-processing of datasets workflow.  \n",
        "\n",
        "## Downloading the Dataset\n",
        "I downloaded the dataset to my Google drive from [this source](https://data.mendeley.com/datasets/tywbtsjrjv/1).  There is both an augmented and without augmentation.  I am not interested in with augmentation.  The dataset downloaded is Plant_leaf_diseases_dataset_without_augmentation.zip.\n",
        "\n",
        "\n"
      ],
      "metadata": {
        "id": "t3oKauG7NOz2"
      }
    },
    {
      "cell_type": "markdown",
      "source": [
        "There seems to be a gahzillion packages and small companies offering APIs for downloading datasets in their \"data lake\" and then getting them into PyTorch data loaders.  I went down that path.  The main one I used was with AIloop ...but I ran into bugs.\n",
        "Now I'm using the method described [in this medium article](https://medium.com/towards-data-science/pro-tip-for-downloading-custom-datasets-in-colab-environment-5413896d14ec)."
      ],
      "metadata": {
        "id": "nldcs60OoKQP"
      }
    },
    {
      "cell_type": "markdown",
      "source": [
        "# Look at the images\n",
        "The easiest way to get a good visual feel for the data is to look at the images is through [the activeloop platform](https://app.activeloop.ai/activeloop/plantvillage-without-augmentation/08130113ea9ac322dbefc20d26797defa682a87f?vs=eyJsaSI6eyJjIjpbeyJoIjpmYWxzZSwibiI6ImltYWdlcyIsIm8iOjEuMH0seyJoIjpmYWxzZSwibiI6ImxhYmVscyIsIm8iOjAuNjk5OTk5OTg4MDc5MDcxfV0sImgiOmZhbHNlLCJuIjoiZGVmYXVsdCIsIm8iOjEuMH0sInJpIjp7ImNmIjpbLTEuMCwwLjAsMC4wXSwiY2kiOlswLjAsLTMuMTQxNTkyNzQxMDEyNTczMl0sImNtIjoxLjAsImNwIjpbNC4wLDEuMTAwMDAwMDIzODQxODU4LC0xLjA5OTk5ODQ3NDEyMTA5MzhdLCJvaSI6MjY0NDZ9fQ==).  There is over 52,000 images.  The number of images is overwhelming."
      ],
      "metadata": {
        "id": "gK-ma40vvPr2"
      }
    },
    {
      "cell_type": "markdown",
      "source": [
        "# Copy the dataset from my drive into colab\n",
        "## Get access to google drive"
      ],
      "metadata": {
        "id": "6lQSjJkAuPGz"
      }
    },
    {
      "cell_type": "markdown",
      "source": [
        "## Load the Zip file into colab."
      ],
      "metadata": {
        "id": "83wnxqhGPMB7"
      }
    },
    {
      "cell_type": "markdown",
      "source": [
        "## List the Different Classes\n",
        "Each folder in the dataset has the class name.  I got this list from [structure section](https://app.activeloop.ai/activeloop/plantvillage-without-augmentation/08130113ea9ac322dbefc20d26797defa682a87f?vs=eyJsaSI6eyJjIjpbeyJoIjpmYWxzZSwibiI6ImltYWdlcyIsIm8iOjEuMH0seyJoIjpmYWxzZSwibiI6ImxhYmVscyIsIm8iOjAuNjk5OTk5OTg4MDc5MDcxfV0sImgiOmZhbHNlLCJuIjoiZGVmYXVsdCIsIm8iOjEuMH0sInJpIjp7ImNmIjpbLTEuMCwwLjAsMC4wXSwiY2kiOlswLjAsLTMuMTQxNTkyNzQxMDEyNTczMl0sImNtIjoxLjAsImNwIjpbNC4wLDEuMTAwMDAwMDIzODQxODU4LC0xLjA5OTk5ODQ3NDEyMTA5MzhdLCJvaSI6MjY0NDZ9fQ==)\n",
        "\n",
        "\n",
        "\n",
        "\n",
        "\n",
        "<img src=https://raw.githubusercontent.com/solarslurpi/GrowBuddies/main/docs/images/plantvillage_classes_wheretofind.jpg alt=\"List of classes used as folder names for the plant village dataset\" width=800/>\n",
        "\n",
        "Copy/Pasted list of classnames used by the Plant Village Dataset.\n",
        "\n",
        "Let's create a dataset that consists of 10 images from each folder that has 'healthy' in its name."
      ],
      "metadata": {
        "id": "veV3g9YMMRiI"
      }
    },
    {
      "cell_type": "code",
      "source": [
        "\n",
        "{\n",
        " \"class_names\": [\n",
        "  \"Peach_healthy\",\n",
        "  \"Strawberry_leaf_scorch\",\n",
        "  \"Grape_black_measles\",\n",
        "  \"Tomato_septoria_leaf_spot\",\n",
        "  \"Grape_healthy\",\n",
        "  \"Tomato_healthy\",\n",
        "  \"Peach_bacterial_spot\",\n",
        "  \"Corn_gray_leaf_spot\",\n",
        "  \"Soybean_healthy\",\n",
        "  \"Corn_common_rust\",\n",
        "  \"Blueberry_healthy\",\n",
        "  \"Corn_healthy\",\n",
        "  \"Apple_healthy\",\n",
        "  \"Apple_cedar_apple_rust\",\n",
        "  \"Background_without_leaves\",\n",
        "  \"Tomato_target_spot\",\n",
        "  \"Pepper_healthy\",\n",
        "  \"Grape_black_rot\",\n",
        "  \"Apple_scab\",\n",
        "  \"Raspberry_healthy\",\n",
        "  \"Tomato_early_blight\",\n",
        "  \"Tomato_yellow_leaf_curl_virus\",\n",
        "  \"Corn_northern_leaf_blight\",\n",
        "  \"Potato_healthy\",\n",
        "  \"Tomato_late_blight\",\n",
        "  \"Cherry_powdery_mildew\",\n",
        "  \"Grape_leaf_blight\",\n",
        "  \"Tomato_leaf_mold\",\n",
        "  \"Pepper_bacterial_spot\",\n",
        "  \"Potato_late_blight\",\n",
        "  \"Tomato_mosaic_virus\",\n",
        "  \"Potato_early_blight\",\n",
        "  \"Tomato_bacterial_spot\",\n",
        "  \"Strawberry_healthy\",\n",
        "  \"Cherry_healthy\",\n",
        "  \"Squash_powdery_mildew\",\n",
        "  \"Tomato_spider_mites_two-spotted_spider_mite\",\n",
        "  \"Orange_haunglongbing\",\n",
        "  \"Apple_black_rot\"\n",
        " ]\n",
        "}"
      ],
      "metadata": {
        "colab": {
          "base_uri": "https://localhost:8080/"
        },
        "id": "TaJRftDOMOGb",
        "outputId": "473a179c-1cd6-4031-ee2e-94893e38c6af"
      },
      "execution_count": null,
      "outputs": [
        {
          "output_type": "execute_result",
          "data": {
            "text/plain": [
              "{'class_names': ['Peach_healthy',\n",
              "  'Strawberry_leaf_scorch',\n",
              "  'Grape_black_measles',\n",
              "  'Tomato_septoria_leaf_spot',\n",
              "  'Grape_healthy',\n",
              "  'Tomato_healthy',\n",
              "  'Peach_bacterial_spot',\n",
              "  'Corn_gray_leaf_spot',\n",
              "  'Soybean_healthy',\n",
              "  'Corn_common_rust',\n",
              "  'Blueberry_healthy',\n",
              "  'Corn_healthy',\n",
              "  'Apple_healthy',\n",
              "  'Apple_cedar_apple_rust',\n",
              "  'Background_without_leaves',\n",
              "  'Tomato_target_spot',\n",
              "  'Pepper_healthy',\n",
              "  'Grape_black_rot',\n",
              "  'Apple_scab',\n",
              "  'Raspberry_healthy',\n",
              "  'Tomato_early_blight',\n",
              "  'Tomato_yellow_leaf_curl_virus',\n",
              "  'Corn_northern_leaf_blight',\n",
              "  'Potato_healthy',\n",
              "  'Tomato_late_blight',\n",
              "  'Cherry_powdery_mildew',\n",
              "  'Grape_leaf_blight',\n",
              "  'Tomato_leaf_mold',\n",
              "  'Pepper_bacterial_spot',\n",
              "  'Potato_late_blight',\n",
              "  'Tomato_mosaic_virus',\n",
              "  'Potato_early_blight',\n",
              "  'Tomato_bacterial_spot',\n",
              "  'Strawberry_healthy',\n",
              "  'Cherry_healthy',\n",
              "  'Squash_powdery_mildew',\n",
              "  'Tomato_spider_mites_two-spotted_spider_mite',\n",
              "  'Orange_haunglongbing',\n",
              "  'Apple_black_rot']}"
            ]
          },
          "metadata": {},
          "execution_count": 2
        }
      ]
    },
    {
      "cell_type": "markdown",
      "source": [
        "## Lets make sure the file exists\n",
        "\n",
        "There are A LOT of files - over 52,000...."
      ],
      "metadata": {
        "id": "alSJxDbNY6lS"
      }
    },
    {
      "cell_type": "code",
      "source": [
        "from pathlib import Path\n",
        "import zipfile\n",
        "\n",
        "from google.colab import drive\n",
        "drive.mount('/gdrive')\n",
        "\n",
        "path = '/gdrive/MyDrive/Colab_datasets/Plant_leaf_diseases_dataset_without_augmentation.zip'\n",
        "\n",
        "if Path(path).exists():\n",
        "    print(f\"The path {path} exists.\")\n",
        "else:\n",
        "    print(f\"The path {path} does not exist.\")\n",
        "with zipfile.ZipFile(path, \"r\") as zip_ref:\n",
        "    num_files = len(zip_ref.namelist())\n",
        "    print(f\"Number of files in the zip file: {num_files}\")"
      ],
      "metadata": {
        "colab": {
          "base_uri": "https://localhost:8080/"
        },
        "id": "y1jOXsb8YsLI",
        "outputId": "4a9f4318-c82c-4a26-bd8c-35081b3e8f9d"
      },
      "execution_count": 2,
      "outputs": [
        {
          "output_type": "stream",
          "name": "stdout",
          "text": [
            "Drive already mounted at /gdrive; to attempt to forcibly remount, call drive.mount(\"/gdrive\", force_remount=True).\n",
            "The path /gdrive/MyDrive/Colab_datasets/Plant_leaf_diseases_dataset_without_augmentation.zip exists.\n",
            "Number of files in the zip file: 55488\n"
          ]
        }
      ]
    },
    {
      "cell_type": "markdown",
      "source": [
        "Create a dictionary in which the keys are the subdirectory names and the value is the number of files (in this case images) within the directory."
      ],
      "metadata": {
        "id": "MZfYG7AXI5FV"
      }
    },
    {
      "cell_type": "code",
      "source": [
        "from pathlib import Path\n",
        "import zipfile\n",
        "\n",
        "path = '/gdrive/MyDrive/Colab_datasets/Plant_leaf_diseases_dataset_without_augmentation.zip'\n",
        "\n",
        "dir_count = {}\n",
        "with zipfile.ZipFile(path, 'r') as zip_ref:\n",
        "    for file in zip_ref.namelist():\n",
        "        p = Path(file)\n",
        "        parent_dir = p.parent\n",
        "        subdir_name = parent_dir.name\n",
        "        # Check if the current subdir_name already exists as a key in the dir_count dictionary. \n",
        "        # If it does, increment the value associated with that key by 1. \n",
        "        # If it doesn't, it creates a new key-value pair in the dictionary\n",
        "        if subdir_name in dir_count:\n",
        "            dir_count[subdir_name] += 1\n",
        "        else:\n",
        "            dir_count[subdir_name] = 1\n",
        "\n",
        "print(dir_count)\n",
        "\n"
      ],
      "metadata": {
        "colab": {
          "base_uri": "https://localhost:8080/"
        },
        "id": "3Ynbnx_AJDL1",
        "outputId": "77c28b64-074b-420c-ba53-71671e0aedc3"
      },
      "execution_count": 3,
      "outputs": [
        {
          "output_type": "stream",
          "name": "stdout",
          "text": [
            "{'': 1, 'Plant_leave_diseases_dataset_without_augmentation': 39, 'Apple___Apple_scab': 630, 'Apple___Black_rot': 621, 'Apple___Cedar_apple_rust': 275, 'Apple___healthy': 1645, 'Background_without_leaves': 1143, 'Blueberry___healthy': 1502, 'Cherry___healthy': 854, 'Cherry___Powdery_mildew': 1052, 'Corn___Cercospora_leaf_spot Gray_leaf_spot': 513, 'Corn___Common_rust': 1192, 'Corn___healthy': 1162, 'Corn___Northern_Leaf_Blight': 985, 'Grape___Black_rot': 1180, 'Grape___Esca_(Black_Measles)': 1383, 'Grape___healthy': 423, 'Grape___Leaf_blight_(Isariopsis_Leaf_Spot)': 1076, 'Orange___Haunglongbing_(Citrus_greening)': 5507, 'Peach___Bacterial_spot': 2297, 'Peach___healthy': 360, 'Pepper,_bell___Bacterial_spot': 997, 'Pepper,_bell___healthy': 1478, 'Potato___Early_blight': 1000, 'Potato___healthy': 152, 'Potato___Late_blight': 1000, 'Raspberry___healthy': 371, 'Soybean___healthy': 5090, 'Squash___Powdery_mildew': 1835, 'Strawberry___healthy': 456, 'Strawberry___Leaf_scorch': 1109, 'Tomato___Bacterial_spot': 2127, 'Tomato___Early_blight': 1000, 'Tomato___healthy': 1591, 'Tomato___Late_blight': 1909, 'Tomato___Leaf_Mold': 952, 'Tomato___Septoria_leaf_spot': 1771, 'Tomato___Spider_mites Two-spotted_spider_mite': 1676, 'Tomato___Target_Spot': 1404, 'Tomato___Tomato_mosaic_virus': 373, 'Tomato___Tomato_Yellow_Leaf_Curl_Virus': 5357}\n"
          ]
        }
      ]
    },
    {
      "cell_type": "markdown",
      "source": [
        "Plot the number of files within each subdirectory.  This gives us a good feel for the distribution of the images."
      ],
      "metadata": {
        "id": "IS79fDjlOqgV"
      }
    },
    {
      "cell_type": "code",
      "source": [
        "import matplotlib.pyplot as plt\n",
        "sorted_keys = sorted(dir_count.keys())\n",
        "plt.figure(figsize=(20, 10))\n",
        "plt.bar(sorted_keys, [dir_count[key] for key in sorted_keys])\n",
        "plt.xticks(rotation=90)\n",
        "plt.xlabel('Subdirectories')\n",
        "plt.ylabel('Number of files')\n",
        "#\n",
        "plt.show()"
      ],
      "metadata": {
        "colab": {
          "base_uri": "https://localhost:8080/",
          "height": 862
        },
        "id": "mAzl5U2gKdD4",
        "outputId": "b2f79631-1c0f-4260-fb45-7d7cd74e28f0"
      },
      "execution_count": 4,
      "outputs": [
        {
          "output_type": "display_data",
          "data": {
            "text/plain": [
              "<Figure size 1440x720 with 1 Axes>"
            ],
            "image/png": "[encoded data removed]"
          },
          "metadata": {
            "needs_background": "light"
          }
        }
      ]
    },
    {
      "cell_type": "markdown",
      "source": [
        "For our first Deep Learning try, I sampled 10 images from each folder.  Folders with the name \"healthy\" in them"
      ],
      "metadata": {
        "id": "S8Fhc9wsbRTF"
      }
    },
    {
      "cell_type": "code",
      "source": [
        "from pathlib import Path\n",
        "from zipfile import ZipFile\n",
        "import random\n",
        "\"\"\"\n",
        "The script uses the ZipFile module to open the zip file specified by the zip_filepath and iterates through the directories.\n",
        "For each directory name, it checks if the name contains a string from the dir_names list. \n",
        "If the directory includes one of the strings in dir_names, the script \n",
        "takes a random sample of 10 files from the directory and extracts them to the specified target directory.  The target directory will be identified as either \n",
        "healthy_target_dir or unhealthy_target_dir.\n",
        " The extracted files are also renamed to include the name of the plant species in the file name.\n",
        "\n",
        "The zip file should be specified at zip_filepath, and the target directories for the healthy and unhealthy images should \n",
        "be specified at healthy_target_dir and unhealthy_target_dir respectively. The dir_names variable contains a list of names \n",
        "of the plant species to be considered.\n",
        "\n",
        "\n",
        "\"\"\"\n",
        "\n",
        "\n",
        "# specify the zip file and the target directory\n",
        "\n",
        "zip_filepath = '/gdrive/MyDrive/Colab_datasets/Plant_leaf_diseases_dataset_without_augmentation.zip'\n",
        "healthy_target_dir = '/content/healthy/'\n",
        "unhealthy_target_dir = '/content/unhealthy/'\n",
        "# Path.mkdir('/content/healthy')\n",
        "dir_names = [\"Apple\",\"Grape\",\"Pepper,_bell\",\"Potato\",\"Raspberry\",\"Soybean\",\"Strawberry\"]\n",
        "# open the zip file\n",
        "with ZipFile(zip_filepath, 'r') as zip_ref:\n",
        "    # iterate through the directories within the zip file\n",
        "    for directory in (f for f in zip_ref.namelist() if f.endswith('/')):\n",
        "      # Check if the directory name contains both an entry from the dir_names list as well as the word \"healthy\"\n",
        "      if any(name in directory for name in dir_names):\n",
        "        files = zip_ref.namelist()\n",
        "        files = [file for file in files if directory in file]\n",
        "        # take a random sample of files from the directory.\n",
        "        files = random.sample(files,10)\n",
        "        dir_path = Path(directory)\n",
        "        subdir_name = dir_path.parts[-1]\n",
        "        for name in dir_names:\n",
        "           if name in subdir_name:\n",
        "              short_dir_name = name\n",
        "              break\n",
        "\n",
        "        for file in files:\n",
        "            zip_info = zip_ref.getinfo(file)\n",
        "            zip_info.filename = zip_info.filename.replace(\"image\",short_dir_name)\n",
        "            zip_info.filename = Path(zip_info.filename).name\n",
        "            if \"healthy\" in directory:\n",
        "              target_dir = healthy_target_dir\n",
        "            else:\n",
        "              target_dir = unhealthy_target_dir\n",
        "            zip_ref.extract(zip_info, target_dir)\n",
        "\n",
        "\n",
        "\n"
      ],
      "metadata": {
        "colab": {
          "base_uri": "https://localhost:8080/"
        },
        "id": "x1lnhV-WP_V9",
        "outputId": "a88a31df-2975-404d-abc2-e80b682de3e8"
      },
      "execution_count": 15,
      "outputs": [
        {
          "output_type": "stream",
          "name": "stdout",
          "text": [
            "Apple (272).JPG\n",
            "Apple (110).JPG\n",
            "Apple (556).JPG\n",
            "Apple (251).JPG\n",
            "Apple (513).JPG\n",
            "Apple (121).JPG\n",
            "Apple (484).JPG\n",
            "Apple (182).JPG\n",
            "Apple (238).JPG\n",
            "Apple (292).JPG\n",
            "Apple (87).JPG\n",
            "Apple (335).JPG\n",
            "Apple (471).JPG\n",
            "Apple (328).JPG\n",
            "Apple (557).JPG\n",
            "Apple (217).JPG\n",
            "Apple (281).JPG\n",
            "Apple (62).JPG\n",
            "Apple (331).JPG\n",
            "Apple (121).JPG\n",
            "Apple (194).JPG\n",
            "Apple (14).JPG\n",
            "Apple (206).JPG\n",
            "Apple (78).JPG\n",
            "Apple (242).JPG\n",
            "Apple (190).JPG\n",
            "Apple (251).JPG\n",
            "Apple (77).JPG\n",
            "Apple (217).JPG\n",
            "Apple (2).JPG\n",
            "Apple (1569).JPG\n",
            "Apple (1255).JPG\n",
            "Apple (444).JPG\n",
            "Apple (1085).JPG\n",
            "Apple (646).JPG\n",
            "Apple (1542).JPG\n",
            "Apple (573).JPG\n",
            "Apple (1108).JPG\n",
            "Apple (1087).JPG\n",
            "Apple (460).JPG\n",
            "Grape (409).JPG\n",
            "Grape (892).JPG\n",
            "Grape (1083).JPG\n",
            "Grape (673).JPG\n",
            "Grape (257).JPG\n",
            "Grape (187).JPG\n",
            "Grape (361).JPG\n",
            "Grape (976).JPG\n",
            "Grape (523).JPG\n",
            "Grape (487).JPG\n",
            "Grape (929).JPG\n",
            "Grape (995).JPG\n",
            "Grape (135).JPG\n",
            "Grape (144).JPG\n",
            "Grape (645).JPG\n",
            "Grape (573).JPG\n",
            "Grape (339).JPG\n",
            "Grape (577).JPG\n",
            "Grape (412).JPG\n",
            "Grape (259).JPG\n",
            "Grape (401).JPG\n",
            "Grape (266).JPG\n",
            "Grape (407).JPG\n",
            "Grape (152).JPG\n",
            "Grape (416).JPG\n",
            "Grape (364).JPG\n",
            "Grape (95).JPG\n",
            "Grape (317).JPG\n",
            "Grape (388).JPG\n",
            "Grape (302).JPG\n",
            "Grape (425).JPG\n",
            "Grape (667).JPG\n",
            "Grape (480).JPG\n",
            "Grape (462).JPG\n",
            "Grape (487).JPG\n",
            "Grape (776).JPG\n",
            "Grape (995).JPG\n",
            "Grape (1020).JPG\n",
            "Grape (674).JPG\n",
            "Grape (80).JPG\n",
            "Pepper,_bell (401).JPG\n",
            "Pepper,_bell (526).JPG\n",
            "Pepper,_bell (4).JPG\n",
            "Pepper,_bell (3).JPG\n",
            "Pepper,_bell (10).JPG\n",
            "Pepper,_bell (115).JPG\n",
            "Pepper,_bell (165).JPG\n",
            "Pepper,_bell (514).JPG\n",
            "Pepper,_bell (187).JPG\n",
            "Pepper,_bell (580).JPG\n",
            "Pepper,_bell (674).JPG\n",
            "Pepper,_bell (712).JPG\n",
            "Pepper,_bell (1213).JPG\n",
            "Pepper,_bell (972).JPG\n",
            "Pepper,_bell (1202).JPG\n",
            "Pepper,_bell (1166).JPG\n",
            "Pepper,_bell (1358).JPG\n",
            "Pepper,_bell (725).JPG\n",
            "Pepper,_bell (832).JPG\n",
            "Pepper,_bell (1477).JPG\n",
            "Potato (623).JPG\n",
            "Potato (485).JPG\n",
            "Potato (289).JPG\n",
            "Potato (863).JPG\n",
            "Potato (943).JPG\n",
            "Potato (602).JPG\n",
            "Potato (382).JPG\n",
            "Potato (562).JPG\n",
            "Potato (26).JPG\n",
            "Potato (356).JPG\n",
            "Potato (49).JPG\n",
            "Potato (141).JPG\n",
            "Potato (76).JPG\n",
            "Potato (140).JPG\n",
            "Potato (104).JPG\n",
            "Potato (81).JPG\n",
            "Potato (48).JPG\n",
            "Potato (120).JPG\n",
            "Potato (89).JPG\n",
            "Potato (4).JPG\n",
            "Potato (703).JPG\n",
            "Potato (602).JPG\n",
            "Potato (606).JPG\n",
            "Potato (710).JPG\n",
            "Potato (475).JPG\n",
            "Potato (137).JPG\n",
            "Potato (743).JPG\n",
            "Potato (893).JPG\n",
            "Potato (164).JPG\n",
            "Potato (977).JPG\n",
            "Raspberry (356).JPG\n",
            "Raspberry (228).JPG\n",
            "Raspberry (61).JPG\n",
            "Raspberry (153).JPG\n",
            "Raspberry (240).JPG\n",
            "Raspberry (347).JPG\n",
            "Raspberry (339).JPG\n",
            "Raspberry (76).JPG\n",
            "Raspberry (83).JPG\n",
            "Raspberry (28).JPG\n",
            "Soybean (1692).JPG\n",
            "Soybean (2823).JPG\n",
            "Soybean (638).JPG\n",
            "Soybean (3513).JPG\n",
            "Soybean (2864).JPG\n",
            "Soybean (685).JPG\n",
            "Soybean (4366).JPG\n",
            "Soybean (1817).JPG\n",
            "Soybean (2999).JPG\n",
            "Soybean (3950).JPG\n",
            "Strawberry (68).JPG\n",
            "Strawberry (53).JPG\n",
            "Strawberry (214).JPG\n",
            "Strawberry (289).JPG\n",
            "Strawberry (351).JPG\n",
            "Strawberry (210).JPG\n",
            "Strawberry (315).JPG\n",
            "Strawberry (103).JPG\n",
            "Strawberry (365).JPG\n",
            "Strawberry (180).JPG\n",
            "Strawberry (783).JPG\n",
            "Strawberry (267).JPG\n",
            "Strawberry (1056).JPG\n",
            "Strawberry (583).JPG\n",
            "Strawberry (441).JPG\n",
            "Strawberry (296).JPG\n",
            "Strawberry (824).JPG\n",
            "Strawberry (960).JPG\n",
            "Strawberry (748).JPG\n",
            "Strawberry (974).JPG\n"
          ]
        }
      ]
    }
  ]
}